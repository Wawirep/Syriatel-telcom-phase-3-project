{
 "cells": [
  {
   "cell_type": "markdown",
   "metadata": {},
   "source": [
    "THE SYRIATEL CUSTOMER CHURN \n",
    "project by Phoebe Wawire \n",
    "CLASS OF DSF-PT7"
   ]
  },
  {
   "cell_type": "markdown",
   "metadata": {},
   "source": [
    "A.THE PROBLEM STATEMENT"
   ]
  },
  {
   "cell_type": "markdown",
   "metadata": {},
   "source": [
    "I want to predict whether a customer with the company named SyriaTel churn will stop doing business with them based on various factors.\n",
    " My Audience is the telecom business who are interested to know how much money they will loose when customers donot stick around for long. \n",
    " My target variable will be categorical with two classes, labeled as 1 for churn and 0 for no churn."
   ]
  },
  {
   "cell_type": "markdown",
   "metadata": {},
   "source": [
    "B. DATA COLLECTION"
   ]
  },
  {
   "cell_type": "markdown",
   "metadata": {},
   "source": [
    "1. Imported all the necessary libraries"
   ]
  },
  {
   "cell_type": "code",
   "execution_count": 1352,
   "metadata": {},
   "outputs": [],
   "source": [
    "import pandas as pd\n",
    "import numpy as np  \n",
    "import seaborn as sns\n",
    "from hashlib import sha256\n",
    "from sklearn.model_selection import train_test_split\n",
    "from sklearn.linear_model import LogisticRegression\n",
    "from sklearn.metrics import confusion_matrix, ConfusionMatrixDisplay, classification_report, roc_auc_score\n",
    "import matplotlib.pyplot as plt\n",
    "from sklearn.preprocessing import OneHotEncoder\n",
    "from imblearn.over_sampling import SMOTE\n",
    "from imblearn.pipeline import Pipeline as imPipeline\n",
    "from sklearn.preprocessing import StandardScaler\n",
    "from imblearn.under_sampling import NearMiss\n",
    "from sklearn.model_selection import StratifiedKFold, cross_val_score\n",
    "from sklearn.compose import ColumnTransformer\n",
    "from sklearn.pipeline import Pipeline\n",
    "from sklearn.impute import SimpleImputer\n",
    "from sklearn.preprocessing import LabelEncoder\n"
   ]
  },
  {
   "cell_type": "markdown",
   "metadata": {},
   "source": [
    "2. Loading the dataset"
   ]
  },
  {
   "cell_type": "code",
   "execution_count": 1353,
   "metadata": {},
   "outputs": [],
   "source": [
    "# Load the dataset\n",
    "df = pd.read_csv(\"C:\\\\Users\\\\User\\\\OneDrive\\\\Desktop\\\\phase_3_project\\\\Syriatel-telcom-phase-3-project\\\\bigml_59c28831336c6604c800002a.csv\")"
   ]
  },
  {
   "cell_type": "markdown",
   "metadata": {},
   "source": [
    "C. EXPLORING THE DATA ANALYSIS(EDA)"
   ]
  },
  {
   "cell_type": "markdown",
   "metadata": {},
   "source": [
    "1. View the dataset dimesions"
   ]
  },
  {
   "cell_type": "code",
   "execution_count": 1354,
   "metadata": {},
   "outputs": [
    {
     "data": {
      "text/plain": [
       "(3333, 21)"
      ]
     },
     "execution_count": 1354,
     "metadata": {},
     "output_type": "execute_result"
    }
   ],
   "source": [
    "#view dimensions of dataset\n",
    "df.shape"
   ]
  },
  {
   "cell_type": "markdown",
   "metadata": {},
   "source": [
    "It shows there are 3333 instances and 21 variables in the data set."
   ]
  },
  {
   "cell_type": "markdown",
   "metadata": {},
   "source": [
    "2. Preview the dataset\n",
    " I preview to see the firts few columns and rows of the dataset"
   ]
  },
  {
   "cell_type": "code",
   "execution_count": 1355,
   "metadata": {},
   "outputs": [
    {
     "data": {
      "text/html": [
       "<div>\n",
       "<style scoped>\n",
       "    .dataframe tbody tr th:only-of-type {\n",
       "        vertical-align: middle;\n",
       "    }\n",
       "\n",
       "    .dataframe tbody tr th {\n",
       "        vertical-align: top;\n",
       "    }\n",
       "\n",
       "    .dataframe thead th {\n",
       "        text-align: right;\n",
       "    }\n",
       "</style>\n",
       "<table border=\"1\" class=\"dataframe\">\n",
       "  <thead>\n",
       "    <tr style=\"text-align: right;\">\n",
       "      <th></th>\n",
       "      <th>state</th>\n",
       "      <th>account length</th>\n",
       "      <th>area code</th>\n",
       "      <th>phone number</th>\n",
       "      <th>international plan</th>\n",
       "      <th>voice mail plan</th>\n",
       "      <th>number vmail messages</th>\n",
       "      <th>total day minutes</th>\n",
       "      <th>total day calls</th>\n",
       "      <th>total day charge</th>\n",
       "      <th>...</th>\n",
       "      <th>total eve calls</th>\n",
       "      <th>total eve charge</th>\n",
       "      <th>total night minutes</th>\n",
       "      <th>total night calls</th>\n",
       "      <th>total night charge</th>\n",
       "      <th>total intl minutes</th>\n",
       "      <th>total intl calls</th>\n",
       "      <th>total intl charge</th>\n",
       "      <th>customer service calls</th>\n",
       "      <th>churn</th>\n",
       "    </tr>\n",
       "  </thead>\n",
       "  <tbody>\n",
       "    <tr>\n",
       "      <th>0</th>\n",
       "      <td>KS</td>\n",
       "      <td>128</td>\n",
       "      <td>415</td>\n",
       "      <td>382-4657</td>\n",
       "      <td>no</td>\n",
       "      <td>yes</td>\n",
       "      <td>25</td>\n",
       "      <td>265.1</td>\n",
       "      <td>110</td>\n",
       "      <td>45.07</td>\n",
       "      <td>...</td>\n",
       "      <td>99</td>\n",
       "      <td>16.78</td>\n",
       "      <td>244.7</td>\n",
       "      <td>91</td>\n",
       "      <td>11.01</td>\n",
       "      <td>10.0</td>\n",
       "      <td>3</td>\n",
       "      <td>2.70</td>\n",
       "      <td>1</td>\n",
       "      <td>False</td>\n",
       "    </tr>\n",
       "    <tr>\n",
       "      <th>1</th>\n",
       "      <td>OH</td>\n",
       "      <td>107</td>\n",
       "      <td>415</td>\n",
       "      <td>371-7191</td>\n",
       "      <td>no</td>\n",
       "      <td>yes</td>\n",
       "      <td>26</td>\n",
       "      <td>161.6</td>\n",
       "      <td>123</td>\n",
       "      <td>27.47</td>\n",
       "      <td>...</td>\n",
       "      <td>103</td>\n",
       "      <td>16.62</td>\n",
       "      <td>254.4</td>\n",
       "      <td>103</td>\n",
       "      <td>11.45</td>\n",
       "      <td>13.7</td>\n",
       "      <td>3</td>\n",
       "      <td>3.70</td>\n",
       "      <td>1</td>\n",
       "      <td>False</td>\n",
       "    </tr>\n",
       "    <tr>\n",
       "      <th>2</th>\n",
       "      <td>NJ</td>\n",
       "      <td>137</td>\n",
       "      <td>415</td>\n",
       "      <td>358-1921</td>\n",
       "      <td>no</td>\n",
       "      <td>no</td>\n",
       "      <td>0</td>\n",
       "      <td>243.4</td>\n",
       "      <td>114</td>\n",
       "      <td>41.38</td>\n",
       "      <td>...</td>\n",
       "      <td>110</td>\n",
       "      <td>10.30</td>\n",
       "      <td>162.6</td>\n",
       "      <td>104</td>\n",
       "      <td>7.32</td>\n",
       "      <td>12.2</td>\n",
       "      <td>5</td>\n",
       "      <td>3.29</td>\n",
       "      <td>0</td>\n",
       "      <td>False</td>\n",
       "    </tr>\n",
       "    <tr>\n",
       "      <th>3</th>\n",
       "      <td>OH</td>\n",
       "      <td>84</td>\n",
       "      <td>408</td>\n",
       "      <td>375-9999</td>\n",
       "      <td>yes</td>\n",
       "      <td>no</td>\n",
       "      <td>0</td>\n",
       "      <td>299.4</td>\n",
       "      <td>71</td>\n",
       "      <td>50.90</td>\n",
       "      <td>...</td>\n",
       "      <td>88</td>\n",
       "      <td>5.26</td>\n",
       "      <td>196.9</td>\n",
       "      <td>89</td>\n",
       "      <td>8.86</td>\n",
       "      <td>6.6</td>\n",
       "      <td>7</td>\n",
       "      <td>1.78</td>\n",
       "      <td>2</td>\n",
       "      <td>False</td>\n",
       "    </tr>\n",
       "    <tr>\n",
       "      <th>4</th>\n",
       "      <td>OK</td>\n",
       "      <td>75</td>\n",
       "      <td>415</td>\n",
       "      <td>330-6626</td>\n",
       "      <td>yes</td>\n",
       "      <td>no</td>\n",
       "      <td>0</td>\n",
       "      <td>166.7</td>\n",
       "      <td>113</td>\n",
       "      <td>28.34</td>\n",
       "      <td>...</td>\n",
       "      <td>122</td>\n",
       "      <td>12.61</td>\n",
       "      <td>186.9</td>\n",
       "      <td>121</td>\n",
       "      <td>8.41</td>\n",
       "      <td>10.1</td>\n",
       "      <td>3</td>\n",
       "      <td>2.73</td>\n",
       "      <td>3</td>\n",
       "      <td>False</td>\n",
       "    </tr>\n",
       "  </tbody>\n",
       "</table>\n",
       "<p>5 rows × 21 columns</p>\n",
       "</div>"
      ],
      "text/plain": [
       "  state  account length  area code phone number international plan  \\\n",
       "0    KS             128        415     382-4657                 no   \n",
       "1    OH             107        415     371-7191                 no   \n",
       "2    NJ             137        415     358-1921                 no   \n",
       "3    OH              84        408     375-9999                yes   \n",
       "4    OK              75        415     330-6626                yes   \n",
       "\n",
       "  voice mail plan  number vmail messages  total day minutes  total day calls  \\\n",
       "0             yes                     25              265.1              110   \n",
       "1             yes                     26              161.6              123   \n",
       "2              no                      0              243.4              114   \n",
       "3              no                      0              299.4               71   \n",
       "4              no                      0              166.7              113   \n",
       "\n",
       "   total day charge  ...  total eve calls  total eve charge  \\\n",
       "0             45.07  ...               99             16.78   \n",
       "1             27.47  ...              103             16.62   \n",
       "2             41.38  ...              110             10.30   \n",
       "3             50.90  ...               88              5.26   \n",
       "4             28.34  ...              122             12.61   \n",
       "\n",
       "   total night minutes  total night calls  total night charge  \\\n",
       "0                244.7                 91               11.01   \n",
       "1                254.4                103               11.45   \n",
       "2                162.6                104                7.32   \n",
       "3                196.9                 89                8.86   \n",
       "4                186.9                121                8.41   \n",
       "\n",
       "   total intl minutes  total intl calls  total intl charge  \\\n",
       "0                10.0                 3               2.70   \n",
       "1                13.7                 3               3.70   \n",
       "2                12.2                 5               3.29   \n",
       "3                 6.6                 7               1.78   \n",
       "4                10.1                 3               2.73   \n",
       "\n",
       "   customer service calls  churn  \n",
       "0                       1  False  \n",
       "1                       1  False  \n",
       "2                       0  False  \n",
       "3                       2  False  \n",
       "4                       3  False  \n",
       "\n",
       "[5 rows x 21 columns]"
      ]
     },
     "execution_count": 1355,
     "metadata": {},
     "output_type": "execute_result"
    }
   ],
   "source": [
    "#preview the dataset\n",
    "df.head()"
   ]
  },
  {
   "cell_type": "markdown",
   "metadata": {},
   "source": [
    "Summary of the 21 columns of the dataset\n",
    "1 Boolean column\n",
    "8 Floating Point columns\n",
    "8 Integer columns\n",
    "4 Object (String) columns\n",
    "\n",
    "Churn is the target variable."
   ]
  },
  {
   "cell_type": "markdown",
   "metadata": {},
   "source": [
    "3. Check names of the columns"
   ]
  },
  {
   "cell_type": "code",
   "execution_count": 1356,
   "metadata": {},
   "outputs": [
    {
     "data": {
      "text/plain": [
       "Index(['state', 'account length', 'area code', 'phone number',\n",
       "       'international plan', 'voice mail plan', 'number vmail messages',\n",
       "       'total day minutes', 'total day calls', 'total day charge',\n",
       "       'total eve minutes', 'total eve calls', 'total eve charge',\n",
       "       'total night minutes', 'total night calls', 'total night charge',\n",
       "       'total intl minutes', 'total intl calls', 'total intl charge',\n",
       "       'customer service calls', 'churn'],\n",
       "      dtype='object')"
      ]
     },
     "execution_count": 1356,
     "metadata": {},
     "output_type": "execute_result"
    }
   ],
   "source": [
    "col_names = df.columns\n",
    "col_names"
   ]
  },
  {
   "cell_type": "markdown",
   "metadata": {},
   "source": [
    "4. Viewing the summary of the datasets"
   ]
  },
  {
   "cell_type": "code",
   "execution_count": 1357,
   "metadata": {},
   "outputs": [
    {
     "name": "stdout",
     "output_type": "stream",
     "text": [
      "<class 'pandas.core.frame.DataFrame'>\n",
      "RangeIndex: 3333 entries, 0 to 3332\n",
      "Data columns (total 21 columns):\n",
      " #   Column                  Non-Null Count  Dtype  \n",
      "---  ------                  --------------  -----  \n",
      " 0   state                   3333 non-null   object \n",
      " 1   account length          3333 non-null   int64  \n",
      " 2   area code               3333 non-null   int64  \n",
      " 3   phone number            3333 non-null   object \n",
      " 4   international plan      3333 non-null   object \n",
      " 5   voice mail plan         3333 non-null   object \n",
      " 6   number vmail messages   3333 non-null   int64  \n",
      " 7   total day minutes       3333 non-null   float64\n",
      " 8   total day calls         3333 non-null   int64  \n",
      " 9   total day charge        3333 non-null   float64\n",
      " 10  total eve minutes       3333 non-null   float64\n",
      " 11  total eve calls         3333 non-null   int64  \n",
      " 12  total eve charge        3333 non-null   float64\n",
      " 13  total night minutes     3333 non-null   float64\n",
      " 14  total night calls       3333 non-null   int64  \n",
      " 15  total night charge      3333 non-null   float64\n",
      " 16  total intl minutes      3333 non-null   float64\n",
      " 17  total intl calls        3333 non-null   int64  \n",
      " 18  total intl charge       3333 non-null   float64\n",
      " 19  customer service calls  3333 non-null   int64  \n",
      " 20  churn                   3333 non-null   bool   \n",
      "dtypes: bool(1), float64(8), int64(8), object(4)\n",
      "memory usage: 524.2+ KB\n"
     ]
    }
   ],
   "source": [
    "#view summary of dataset\n",
    "df.info()"
   ]
  },
  {
   "cell_type": "markdown",
   "metadata": {},
   "source": [
    "Types of variables\n",
    "I will sort the dataset into data types. There are a mixture of categorical, numerical, intergers and boolean variables in the dataset. Categorical variables have data type object, \n",
    "Numerical variables have data type float64,\n",
    "Boolean variables have data type bool and\n",
    "Intergers have data type int64\n"
   ]
  },
  {
   "cell_type": "markdown",
   "metadata": {},
   "source": [
    "5. Finding the categorical variables"
   ]
  },
  {
   "cell_type": "code",
   "execution_count": 1358,
   "metadata": {},
   "outputs": [
    {
     "name": "stdout",
     "output_type": "stream",
     "text": [
      "There are 4 categorical variables\n",
      "\n",
      "The categorical variables are : ['state', 'phone number', 'international plan', 'voice mail plan']\n"
     ]
    }
   ],
   "source": [
    "#find categorical variables\n",
    "categorical = [var for var in df.columns if df[var].dtype=='O']\n",
    "print('There are {} categorical variables\\n'.format(len(categorical)))\n",
    "print('The categorical variables are :', categorical)"
   ]
  },
  {
   "cell_type": "markdown",
   "metadata": {},
   "source": [
    "5. i. Viewing the categorical variables"
   ]
  },
  {
   "cell_type": "code",
   "execution_count": null,
   "metadata": {},
   "outputs": [],
   "source": []
  },
  {
   "cell_type": "code",
   "execution_count": 1359,
   "metadata": {},
   "outputs": [
    {
     "data": {
      "text/html": [
       "<div>\n",
       "<style scoped>\n",
       "    .dataframe tbody tr th:only-of-type {\n",
       "        vertical-align: middle;\n",
       "    }\n",
       "\n",
       "    .dataframe tbody tr th {\n",
       "        vertical-align: top;\n",
       "    }\n",
       "\n",
       "    .dataframe thead th {\n",
       "        text-align: right;\n",
       "    }\n",
       "</style>\n",
       "<table border=\"1\" class=\"dataframe\">\n",
       "  <thead>\n",
       "    <tr style=\"text-align: right;\">\n",
       "      <th></th>\n",
       "      <th>state</th>\n",
       "      <th>phone number</th>\n",
       "      <th>international plan</th>\n",
       "      <th>voice mail plan</th>\n",
       "    </tr>\n",
       "  </thead>\n",
       "  <tbody>\n",
       "    <tr>\n",
       "      <th>0</th>\n",
       "      <td>KS</td>\n",
       "      <td>382-4657</td>\n",
       "      <td>no</td>\n",
       "      <td>yes</td>\n",
       "    </tr>\n",
       "    <tr>\n",
       "      <th>1</th>\n",
       "      <td>OH</td>\n",
       "      <td>371-7191</td>\n",
       "      <td>no</td>\n",
       "      <td>yes</td>\n",
       "    </tr>\n",
       "    <tr>\n",
       "      <th>2</th>\n",
       "      <td>NJ</td>\n",
       "      <td>358-1921</td>\n",
       "      <td>no</td>\n",
       "      <td>no</td>\n",
       "    </tr>\n",
       "    <tr>\n",
       "      <th>3</th>\n",
       "      <td>OH</td>\n",
       "      <td>375-9999</td>\n",
       "      <td>yes</td>\n",
       "      <td>no</td>\n",
       "    </tr>\n",
       "    <tr>\n",
       "      <th>4</th>\n",
       "      <td>OK</td>\n",
       "      <td>330-6626</td>\n",
       "      <td>yes</td>\n",
       "      <td>no</td>\n",
       "    </tr>\n",
       "  </tbody>\n",
       "</table>\n",
       "</div>"
      ],
      "text/plain": [
       "  state phone number international plan voice mail plan\n",
       "0    KS     382-4657                 no             yes\n",
       "1    OH     371-7191                 no             yes\n",
       "2    NJ     358-1921                 no              no\n",
       "3    OH     375-9999                yes              no\n",
       "4    OK     330-6626                yes              no"
      ]
     },
     "execution_count": 1359,
     "metadata": {},
     "output_type": "execute_result"
    }
   ],
   "source": [
    "#view the categorical variables\n",
    "df[categorical].head()"
   ]
  },
  {
   "cell_type": "markdown",
   "metadata": {},
   "source": [
    "Summary of categorical variables\n",
    "\n",
    "There are 4 categorical variables. These are; state, phone number, international plan and voice mail plan\n",
    "\n",
    "There are 2 binary categorical variables - International plan and Voice mail plan.\n"
   ]
  },
  {
   "cell_type": "markdown",
   "metadata": {},
   "source": [
    "We will explore problems within categorical variables"
   ]
  },
  {
   "cell_type": "markdown",
   "metadata": {},
   "source": [
    "5. ii. Missing values in categorical variables"
   ]
  },
  {
   "cell_type": "code",
   "execution_count": 1360,
   "metadata": {},
   "outputs": [
    {
     "data": {
      "text/plain": [
       "state                 0\n",
       "phone number          0\n",
       "international plan    0\n",
       "voice mail plan       0\n",
       "dtype: int64"
      ]
     },
     "execution_count": 1360,
     "metadata": {},
     "output_type": "execute_result"
    }
   ],
   "source": [
    "# check missing values in categorical variables\n",
    "df[categorical].isnull().sum()"
   ]
  },
  {
   "cell_type": "markdown",
   "metadata": {},
   "source": [
    "There are no missing values in categorical variables"
   ]
  },
  {
   "cell_type": "markdown",
   "metadata": {},
   "source": [
    "5. iii. Viewing the frequencies of categorical variables"
   ]
  },
  {
   "cell_type": "code",
   "execution_count": 1361,
   "metadata": {},
   "outputs": [
    {
     "name": "stdout",
     "output_type": "stream",
     "text": [
      "WV    106\n",
      "MN     84\n",
      "NY     83\n",
      "AL     80\n",
      "OH     78\n",
      "OR     78\n",
      "WI     78\n",
      "WY     77\n",
      "VA     77\n",
      "CT     74\n",
      "MI     73\n",
      "VT     73\n",
      "ID     73\n",
      "TX     72\n",
      "UT     72\n",
      "IN     71\n",
      "KS     70\n",
      "MD     70\n",
      "NJ     68\n",
      "MT     68\n",
      "NC     68\n",
      "CO     66\n",
      "NV     66\n",
      "WA     66\n",
      "RI     65\n",
      "MA     65\n",
      "MS     65\n",
      "AZ     64\n",
      "MO     63\n",
      "FL     63\n",
      "NM     62\n",
      "ME     62\n",
      "ND     62\n",
      "NE     61\n",
      "OK     61\n",
      "DE     61\n",
      "SD     60\n",
      "SC     60\n",
      "KY     59\n",
      "IL     58\n",
      "NH     56\n",
      "AR     55\n",
      "GA     54\n",
      "DC     54\n",
      "HI     53\n",
      "TN     53\n",
      "AK     52\n",
      "LA     51\n",
      "PA     45\n",
      "IA     44\n",
      "CA     34\n",
      "Name: state, dtype: int64\n",
      "391-8626    1\n",
      "390-5470    1\n",
      "333-1012    1\n",
      "412-1991    1\n",
      "364-8981    1\n",
      "           ..\n",
      "363-3295    1\n",
      "411-8956    1\n",
      "379-3132    1\n",
      "398-1759    1\n",
      "367-4853    1\n",
      "Name: phone number, Length: 3333, dtype: int64\n",
      "no     3010\n",
      "yes     323\n",
      "Name: international plan, dtype: int64\n",
      "no     2411\n",
      "yes     922\n",
      "Name: voice mail plan, dtype: int64\n"
     ]
    }
   ],
   "source": [
    "# view frequency of categorical variables\n",
    "for var in categorical: \n",
    "    \n",
    "    print(df[var].value_counts())"
   ]
  },
  {
   "cell_type": "markdown",
   "metadata": {},
   "source": [
    "5. iv. Viewing the frequencies distribution of the categorical variables"
   ]
  },
  {
   "cell_type": "code",
   "execution_count": 1362,
   "metadata": {},
   "outputs": [
    {
     "name": "stdout",
     "output_type": "stream",
     "text": [
      "WV    0.031803\n",
      "MN    0.025203\n",
      "NY    0.024902\n",
      "AL    0.024002\n",
      "OH    0.023402\n",
      "OR    0.023402\n",
      "WI    0.023402\n",
      "WY    0.023102\n",
      "VA    0.023102\n",
      "CT    0.022202\n",
      "MI    0.021902\n",
      "VT    0.021902\n",
      "ID    0.021902\n",
      "TX    0.021602\n",
      "UT    0.021602\n",
      "IN    0.021302\n",
      "KS    0.021002\n",
      "MD    0.021002\n",
      "NJ    0.020402\n",
      "MT    0.020402\n",
      "NC    0.020402\n",
      "CO    0.019802\n",
      "NV    0.019802\n",
      "WA    0.019802\n",
      "RI    0.019502\n",
      "MA    0.019502\n",
      "MS    0.019502\n",
      "AZ    0.019202\n",
      "MO    0.018902\n",
      "FL    0.018902\n",
      "NM    0.018602\n",
      "ME    0.018602\n",
      "ND    0.018602\n",
      "NE    0.018302\n",
      "OK    0.018302\n",
      "DE    0.018302\n",
      "SD    0.018002\n",
      "SC    0.018002\n",
      "KY    0.017702\n",
      "IL    0.017402\n",
      "NH    0.016802\n",
      "AR    0.016502\n",
      "GA    0.016202\n",
      "DC    0.016202\n",
      "HI    0.015902\n",
      "TN    0.015902\n",
      "AK    0.015602\n",
      "LA    0.015302\n",
      "PA    0.013501\n",
      "IA    0.013201\n",
      "CA    0.010201\n",
      "Name: state, dtype: float64\n",
      "391-8626    0.0003\n",
      "390-5470    0.0003\n",
      "333-1012    0.0003\n",
      "412-1991    0.0003\n",
      "364-8981    0.0003\n",
      "             ...  \n",
      "363-3295    0.0003\n",
      "411-8956    0.0003\n",
      "379-3132    0.0003\n",
      "398-1759    0.0003\n",
      "367-4853    0.0003\n",
      "Name: phone number, Length: 3333, dtype: float64\n",
      "no     0.90309\n",
      "yes    0.09691\n",
      "Name: international plan, dtype: float64\n",
      "no     0.723372\n",
      "yes    0.276628\n",
      "Name: voice mail plan, dtype: float64\n"
     ]
    }
   ],
   "source": [
    "# view frequency distribution of categorical variables\n",
    "for var in categorical: \n",
    "    \n",
    "    print(df[var].value_counts()/np.float64(len(df)))"
   ]
  },
  {
   "cell_type": "markdown",
   "metadata": {},
   "source": [
    "Number of labels: cardinality\n",
    "The number of labels within a categorical variable is known as cardinality. A high number of labels within a variable is known as high cardinality. High cardinality may pose some serious problems in the machine learning model. So, I will check for high cardinality."
   ]
  },
  {
   "cell_type": "markdown",
   "metadata": {},
   "source": [
    "5. v. Checking for cardinality in the categorical variables"
   ]
  },
  {
   "cell_type": "code",
   "execution_count": 1363,
   "metadata": {},
   "outputs": [
    {
     "name": "stdout",
     "output_type": "stream",
     "text": [
      "state  contains  51  labels\n",
      "phone number  contains  3333  labels\n",
      "international plan  contains  2  labels\n",
      "voice mail plan  contains  2  labels\n"
     ]
    }
   ],
   "source": [
    "# check for cardinality in categorical variables\n",
    "for var in categorical:\n",
    "    \n",
    "    print(var, ' contains ', len(df[var].unique()), ' labels')"
   ]
  },
  {
   "cell_type": "markdown",
   "metadata": {},
   "source": [
    "With this result state  contains  51  labels\n",
    "phone number  contains  3333  labels\n",
    "international plan  contains  2  labels\n",
    "voice mail plan  contains  2  labels\n",
    "We can see that there is a phone number variable which needs to be preprocessed due to it's higher cardinality\n",
    "All the other variables contain relatively smaller number of labels."
   ]
  },
  {
   "cell_type": "markdown",
   "metadata": {},
   "source": [
    "Exploring categorical variables one by one; we start with State"
   ]
  },
  {
   "cell_type": "markdown",
   "metadata": {},
   "source": [
    "1. State"
   ]
  },
  {
   "cell_type": "code",
   "execution_count": 1364,
   "metadata": {},
   "outputs": [
    {
     "name": "stdout",
     "output_type": "stream",
     "text": [
      "Data type of 'state' column before conversion:\n",
      "object\n"
     ]
    }
   ],
   "source": [
    "# Check the data type of the 'state' column\n",
    "print(\"Data type of 'state' column before conversion:\")\n",
    "print(df['state'].dtype)"
   ]
  },
  {
   "cell_type": "code",
   "execution_count": 1365,
   "metadata": {},
   "outputs": [
    {
     "name": "stdout",
     "output_type": "stream",
     "text": [
      "\n",
      "DataFrame with 'state' converted to numeric:\n",
      "      state  account length  area code phone number international plan  \\\n",
      "0         0             128        415     382-4657                 no   \n",
      "1         1             107        415     371-7191                 no   \n",
      "2         2             137        415     358-1921                 no   \n",
      "3         1              84        408     375-9999                yes   \n",
      "4         3              75        415     330-6626                yes   \n",
      "...     ...             ...        ...          ...                ...   \n",
      "3328     20             192        415     414-4276                 no   \n",
      "3329      8              68        415     370-3271                 no   \n",
      "3330     10              28        510     328-8230                 no   \n",
      "3331     49             184        510     364-6381                yes   \n",
      "3332     47              74        415     400-4344                 no   \n",
      "\n",
      "     voice mail plan  number vmail messages  total day minutes  \\\n",
      "0                yes                     25              265.1   \n",
      "1                yes                     26              161.6   \n",
      "2                 no                      0              243.4   \n",
      "3                 no                      0              299.4   \n",
      "4                 no                      0              166.7   \n",
      "...              ...                    ...                ...   \n",
      "3328             yes                     36              156.2   \n",
      "3329              no                      0              231.1   \n",
      "3330              no                      0              180.8   \n",
      "3331              no                      0              213.8   \n",
      "3332             yes                     25              234.4   \n",
      "\n",
      "      total day calls  total day charge  ...  total eve calls  \\\n",
      "0                 110             45.07  ...               99   \n",
      "1                 123             27.47  ...              103   \n",
      "2                 114             41.38  ...              110   \n",
      "3                  71             50.90  ...               88   \n",
      "4                 113             28.34  ...              122   \n",
      "...               ...               ...  ...              ...   \n",
      "3328               77             26.55  ...              126   \n",
      "3329               57             39.29  ...               55   \n",
      "3330              109             30.74  ...               58   \n",
      "3331              105             36.35  ...               84   \n",
      "3332              113             39.85  ...               82   \n",
      "\n",
      "      total eve charge  total night minutes  total night calls  \\\n",
      "0                16.78                244.7                 91   \n",
      "1                16.62                254.4                103   \n",
      "2                10.30                162.6                104   \n",
      "3                 5.26                196.9                 89   \n",
      "4                12.61                186.9                121   \n",
      "...                ...                  ...                ...   \n",
      "3328             18.32                279.1                 83   \n",
      "3329             13.04                191.3                123   \n",
      "3330             24.55                191.9                 91   \n",
      "3331             13.57                139.2                137   \n",
      "3332             22.60                241.4                 77   \n",
      "\n",
      "      total night charge  total intl minutes  total intl calls  \\\n",
      "0                  11.01                10.0                 3   \n",
      "1                  11.45                13.7                 3   \n",
      "2                   7.32                12.2                 5   \n",
      "3                   8.86                 6.6                 7   \n",
      "4                   8.41                10.1                 3   \n",
      "...                  ...                 ...               ...   \n",
      "3328               12.56                 9.9                 6   \n",
      "3329                8.61                 9.6                 4   \n",
      "3330                8.64                14.1                 6   \n",
      "3331                6.26                 5.0                10   \n",
      "3332               10.86                13.7                 4   \n",
      "\n",
      "      total intl charge  customer service calls  churn  \n",
      "0                  2.70                       1  False  \n",
      "1                  3.70                       1  False  \n",
      "2                  3.29                       0  False  \n",
      "3                  1.78                       2  False  \n",
      "4                  2.73                       3  False  \n",
      "...                 ...                     ...    ...  \n",
      "3328               2.67                       2  False  \n",
      "3329               2.59                       3  False  \n",
      "3330               3.81                       2  False  \n",
      "3331               1.35                       2  False  \n",
      "3332               3.70                       0  False  \n",
      "\n",
      "[3333 rows x 21 columns]\n",
      "\n",
      "Unique values mapping:\n",
      "{'KS': 0, 'OH': 1, 'NJ': 2, 'OK': 3, 'AL': 4, 'MA': 5, 'MO': 6, 'LA': 7, 'WV': 8, 'IN': 9, 'RI': 10, 'IA': 11, 'MT': 12, 'NY': 13, 'ID': 14, 'VT': 15, 'VA': 16, 'TX': 17, 'FL': 18, 'CO': 19, 'AZ': 20, 'SC': 21, 'NE': 22, 'WY': 23, 'HI': 24, 'IL': 25, 'NH': 26, 'GA': 27, 'AK': 28, 'MD': 29, 'AR': 30, 'WI': 31, 'OR': 32, 'MI': 33, 'DE': 34, 'UT': 35, 'CA': 36, 'MN': 37, 'SD': 38, 'NC': 39, 'WA': 40, 'NM': 41, 'NV': 42, 'DC': 43, 'KY': 44, 'ME': 45, 'MS': 46, 'TN': 47, 'PA': 48, 'CT': 49, 'ND': 50}\n",
      "Data type of 'state' column after conversion:\n",
      "int64\n"
     ]
    }
   ],
   "source": [
    "# Convert 'state' column to numeric codes using factorize\n",
    "df['state'], unique = pd.factorize(df['state'])\n",
    "\n",
    "# Print the DataFrame with the converted column\n",
    "print(\"\\nDataFrame with 'state' converted to numeric:\")\n",
    "print(df)\n",
    "\n",
    "# Print the unique values mapping\n",
    "print(\"\\nUnique values mapping:\")\n",
    "print(dict(zip(unique, range(len(unique)))))\n",
    "\n",
    "# Check the data type of the 'state' column after conversion\n",
    "print(\"Data type of 'state' column after conversion:\")\n",
    "print(df['state'].dtype)"
   ]
  },
  {
   "cell_type": "code",
   "execution_count": 1366,
   "metadata": {},
   "outputs": [
    {
     "name": "stdout",
     "output_type": "stream",
     "text": [
      "state contains 51 labels\n"
     ]
    },
    {
     "data": {
      "text/plain": [
       "array([ 0,  1,  2,  3,  4,  5,  6,  7,  8,  9, 10, 11, 12, 13, 14, 15, 16,\n",
       "       17, 18, 19, 20, 21, 22, 23, 24, 25, 26, 27, 28, 29, 30, 31, 32, 33,\n",
       "       34, 35, 36, 37, 38, 39, 40, 41, 42, 43, 44, 45, 46, 47, 48, 49, 50],\n",
       "      dtype=int64)"
      ]
     },
     "execution_count": 1366,
     "metadata": {},
     "output_type": "execute_result"
    }
   ],
   "source": [
    "# print number of labels in State variable\n",
    "print('state contains', len(df[\"state\"].unique()), 'labels')\n",
    "# check labels in state variable\n",
    "df.state.unique()"
   ]
  },
  {
   "cell_type": "code",
   "execution_count": 1367,
   "metadata": {},
   "outputs": [
    {
     "data": {
      "text/plain": [
       "8     106\n",
       "37     84\n",
       "13     83\n",
       "4      80\n",
       "31     78\n",
       "32     78\n",
       "1      78\n",
       "16     77\n",
       "23     77\n",
       "49     74\n",
       "14     73\n",
       "33     73\n",
       "15     73\n",
       "17     72\n",
       "35     72\n",
       "9      71\n",
       "0      70\n",
       "29     70\n",
       "2      68\n",
       "12     68\n",
       "39     68\n",
       "42     66\n",
       "40     66\n",
       "19     66\n",
       "46     65\n",
       "5      65\n",
       "10     65\n",
       "20     64\n",
       "6      63\n",
       "18     63\n",
       "50     62\n",
       "45     62\n",
       "41     62\n",
       "3      61\n",
       "34     61\n",
       "22     61\n",
       "38     60\n",
       "21     60\n",
       "44     59\n",
       "25     58\n",
       "26     56\n",
       "30     55\n",
       "43     54\n",
       "27     54\n",
       "24     53\n",
       "47     53\n",
       "28     52\n",
       "7      51\n",
       "48     45\n",
       "11     44\n",
       "36     34\n",
       "Name: state, dtype: int64"
      ]
     },
     "execution_count": 1367,
     "metadata": {},
     "output_type": "execute_result"
    }
   ],
   "source": [
    "# check frequency distribution of values in state variable\n",
    "df[\"state\"].value_counts()"
   ]
  },
  {
   "cell_type": "markdown",
   "metadata": {},
   "source": [
    "2. Phone number"
   ]
  },
  {
   "cell_type": "code",
   "execution_count": 1368,
   "metadata": {},
   "outputs": [
    {
     "name": "stdout",
     "output_type": "stream",
     "text": [
      "Data type of 'phone number' column before conversion:\n",
      "object\n"
     ]
    }
   ],
   "source": [
    "# Sample DataFrame creation \n",
    "data = {'phone number': ['(123) 456-7890', '987-654-3210', '5551234567']}\n",
    "df = pd.DataFrame(data)\n",
    "\n",
    "# Check the data type of the 'phone number' column\n",
    "print(\"Data type of 'phone number' column before conversion:\")\n",
    "print(df['phone number'].dtype)"
   ]
  },
  {
   "cell_type": "code",
   "execution_count": 1369,
   "metadata": {},
   "outputs": [
    {
     "name": "stdout",
     "output_type": "stream",
     "text": [
      "Data type of 'phone number' column after conversion:\n",
      "int64\n",
      "   phone number\n",
      "0    1234567890\n",
      "1    9876543210\n",
      "2    5551234567\n"
     ]
    }
   ],
   "source": [
    "# Clean the 'phone number' column by removing non-numeric characters\n",
    "df['phone number'] = df['phone number'].str.replace(r'\\D+', '', regex=True)\n",
    "\n",
    "# Convert the 'phone number' column to numeric (as integers, for instance)\n",
    "df['phone number'] = pd.to_numeric(df['phone number'], errors='coerce')\n",
    "\n",
    "# Check the data type of the 'phone number' column after conversion\n",
    "print(\"Data type of 'phone number' column after conversion:\")\n",
    "print(df['phone number'].dtype)\n",
    "\n",
    "# Output the modified DataFrame\n",
    "print(df)"
   ]
  },
  {
   "cell_type": "code",
   "execution_count": 1370,
   "metadata": {},
   "outputs": [
    {
     "name": "stdout",
     "output_type": "stream",
     "text": [
      "phone number contains 3 labels\n"
     ]
    },
    {
     "data": {
      "text/plain": [
       "array([1234567890, 9876543210, 5551234567], dtype=int64)"
      ]
     },
     "execution_count": 1370,
     "metadata": {},
     "output_type": "execute_result"
    }
   ],
   "source": [
    "# print number of labels in phone number variable\n",
    "print('phone number contains', len(df['phone number'].unique()), 'labels')\n",
    "# check labels in phone number variable\n",
    "df['phone number'].unique()"
   ]
  },
  {
   "cell_type": "code",
   "execution_count": 1371,
   "metadata": {},
   "outputs": [
    {
     "data": {
      "text/plain": [
       "9876543210    1\n",
       "1234567890    1\n",
       "5551234567    1\n",
       "Name: phone number, dtype: int64"
      ]
     },
     "execution_count": 1371,
     "metadata": {},
     "output_type": "execute_result"
    }
   ],
   "source": [
    "# check frequency distribution of values in phone number variable\n",
    "df['phone number'].value_counts()"
   ]
  },
  {
   "cell_type": "markdown",
   "metadata": {},
   "source": [
    "3. International Plan"
   ]
  },
  {
   "cell_type": "code",
   "execution_count": 1372,
   "metadata": {},
   "outputs": [
    {
     "name": "stdout",
     "output_type": "stream",
     "text": [
      "Data type of 'international plan' column before conversion:\n",
      "object\n"
     ]
    }
   ],
   "source": [
    "# Sample DataFrame creation\n",
    "data = {\n",
    "    'international plan': ['no', 'yes', 'no']  \n",
    "}\n",
    "\n",
    "df = pd.DataFrame(data)\n",
    "\n",
    "# Check the data type of the 'international plan' column\n",
    "print(\"Data type of 'international plan' column before conversion:\")\n",
    "print(df['international plan'].dtype)"
   ]
  },
  {
   "cell_type": "code",
   "execution_count": 1373,
   "metadata": {},
   "outputs": [
    {
     "name": "stdout",
     "output_type": "stream",
     "text": [
      "\n",
      "DataFrame with 'international plan' converted to numeric:\n",
      "   international plan\n",
      "0                   0\n",
      "1                   1\n",
      "2                   0\n",
      "\n",
      "Unique values mapping:\n",
      "{'no': 0, 'yes': 1}\n",
      "Data type of 'international plan' column after conversion:\n",
      "int64\n",
      "   international plan\n",
      "0                   0\n",
      "1                   1\n",
      "2                   0\n"
     ]
    }
   ],
   "source": [
    "# Convert 'international plan' column to numeric codes using factorize\n",
    "df['international plan'], unique = pd.factorize(df['international plan'])\n",
    "\n",
    "# Print the DataFrame with the converted column\n",
    "print(\"\\nDataFrame with 'international plan' converted to numeric:\")\n",
    "print(df)\n",
    "\n",
    "# Print the unique values mapping\n",
    "print(\"\\nUnique values mapping:\")\n",
    "print(dict(zip(unique, range(len(unique)))))\n",
    "\n",
    "# Check the data type of the 'international' column after conversion\n",
    "print(\"Data type of 'international plan' column after conversion:\")\n",
    "print(df['international plan'].dtype)\n",
    "\n",
    "# Output the modified DataFrame\n",
    "print(df)"
   ]
  },
  {
   "cell_type": "code",
   "execution_count": 1374,
   "metadata": {},
   "outputs": [
    {
     "name": "stdout",
     "output_type": "stream",
     "text": [
      "international plan contains 2 labels\n"
     ]
    },
    {
     "data": {
      "text/plain": [
       "array([0, 1], dtype=int64)"
      ]
     },
     "execution_count": 1374,
     "metadata": {},
     "output_type": "execute_result"
    }
   ],
   "source": [
    "# print number of labels in international plan variable\n",
    "print('international plan contains', len(df['international plan'].unique()), 'labels')\n",
    "# check labels in international variable\n",
    "df['international plan'].unique()"
   ]
  },
  {
   "cell_type": "code",
   "execution_count": 1375,
   "metadata": {},
   "outputs": [
    {
     "data": {
      "text/plain": [
       "0    2\n",
       "1    1\n",
       "Name: international plan, dtype: int64"
      ]
     },
     "execution_count": 1375,
     "metadata": {},
     "output_type": "execute_result"
    }
   ],
   "source": [
    "# check frequency distribution of values in international variable\n",
    "df['international plan'].value_counts()"
   ]
  },
  {
   "cell_type": "markdown",
   "metadata": {},
   "source": [
    "4. Voice mail plan"
   ]
  },
  {
   "cell_type": "code",
   "execution_count": 1376,
   "metadata": {},
   "outputs": [
    {
     "name": "stdout",
     "output_type": "stream",
     "text": [
      "Data type of 'voice mail plan' column before conversion:\n",
      "object\n"
     ]
    }
   ],
   "source": [
    "# Sample DataFrame creation\n",
    "data = {\n",
    "    'voice mail plan': ['no', 'yes', 'no']  \n",
    "}\n",
    "\n",
    "df = pd.DataFrame(data)\n",
    "\n",
    "# Check the data type of the 'voice mail plan' column before conversion\n",
    "print(\"Data type of 'voice mail plan' column before conversion:\")\n",
    "print(df['voice mail plan'].dtype)"
   ]
  },
  {
   "cell_type": "code",
   "execution_count": 1377,
   "metadata": {},
   "outputs": [
    {
     "name": "stdout",
     "output_type": "stream",
     "text": [
      "\n",
      "DataFrame with 'voice mail plan' converted to numeric:\n",
      "   voice mail plan\n",
      "0                0\n",
      "1                1\n",
      "2                0\n",
      "\n",
      "Unique values mapping:\n",
      "{'no': 0, 'yes': 1}\n",
      "Data type of 'voice mail plan' column after conversion:\n",
      "int64\n"
     ]
    }
   ],
   "source": [
    "# Convert 'voice mail plan' column to numeric codes using factorize\n",
    "df['voice mail plan'], unique = pd.factorize(df['voice mail plan'])\n",
    "\n",
    "# Print the DataFrame with the converted column\n",
    "print(\"\\nDataFrame with 'voice mail plan' converted to numeric:\")\n",
    "print(df)\n",
    "\n",
    "# Print the unique values mapping\n",
    "print(\"\\nUnique values mapping:\")\n",
    "print(dict(zip(unique, range(len(unique)))))\n",
    "\n",
    "# Check the data type of the 'voice mail plan' column after conversion\n",
    "print(\"Data type of 'voice mail plan' column after conversion:\")\n",
    "print(df['voice mail plan'].dtype)"
   ]
  },
  {
   "cell_type": "code",
   "execution_count": 1378,
   "metadata": {},
   "outputs": [
    {
     "data": {
      "text/plain": [
       "0    2\n",
       "1    1\n",
       "Name: voice mail plan, dtype: int64"
      ]
     },
     "execution_count": 1378,
     "metadata": {},
     "output_type": "execute_result"
    }
   ],
   "source": [
    "# check frequency distribution of values in voice mail plan variable\n",
    "df['voice mail plan'].value_counts()"
   ]
  },
  {
   "cell_type": "code",
   "execution_count": 1379,
   "metadata": {},
   "outputs": [
    {
     "name": "stdout",
     "output_type": "stream",
     "text": [
      "Initial DataFrame:\n",
      "  voice mail plan\n",
      "0              no\n",
      "1             yes\n",
      "2              no\n",
      "\n",
      "Initial DataFrame data types:\n",
      "voice mail plan    object\n",
      "dtype: object\n",
      "Converted 'voice mail plan' to numeric. Unique values mapping:\n",
      "{'no': 0, 'yes': 1}\n",
      "\n",
      "DataFrame after converting categorical columns to numeric:\n",
      "   voice mail plan\n",
      "0                0\n",
      "1                1\n",
      "2                0\n",
      "\n",
      "DataFrame data types after conversion:\n",
      "voice mail plan    int64\n",
      "dtype: object\n"
     ]
    }
   ],
   "source": [
    "# Sample DataFrame creation\n",
    "data = {\n",
    "    \n",
    "    'voice mail plan': ['no', 'yes', 'no']\n",
    "}\n",
    "\n",
    "df = pd.DataFrame(data)\n",
    "\n",
    "# Function to convert categorical columns to numeric\n",
    "def convert_categorical_to_numeric(df):\n",
    "    for column in df.columns:\n",
    "        if df[column].dtype == 'object':\n",
    "            # Convert categorical data to numeric\n",
    "            df[column], unique = pd.factorize(df[column])\n",
    "            print(f\"Converted '{column}' to numeric. Unique values mapping:\")\n",
    "            print(dict(zip(unique, range(len(unique)))))\n",
    "    return df\n",
    "\n",
    "# Print initial DataFrame and data types\n",
    "print(\"Initial DataFrame:\")\n",
    "print(df)\n",
    "print(\"\\nInitial DataFrame data types:\")\n",
    "print(df.dtypes)\n",
    "\n",
    "# Convert categorical columns to numeric\n",
    "df = convert_categorical_to_numeric(df)\n",
    "\n",
    "# Print the DataFrame with converted columns and data types\n",
    "print(\"\\nDataFrame after converting categorical columns to numeric:\")\n",
    "print(df)\n",
    "print(\"\\nDataFrame data types after conversion:\")\n",
    "print(df.dtypes)"
   ]
  },
  {
   "cell_type": "markdown",
   "metadata": {},
   "source": [
    "Checking outliers in numerical variables"
   ]
  },
  {
   "cell_type": "code",
   "execution_count": 1380,
   "metadata": {},
   "outputs": [
    {
     "data": {
      "image/png": "[encoded data removed]",
      "text/plain": [
       "<Figure size 720x432 with 1 Axes>"
      ]
     },
     "metadata": {
      "needs_background": "light"
     },
     "output_type": "display_data"
    },
    {
     "data": {
      "image/png": "[encoded data removed]",
      "text/plain": [
       "<Figure size 720x432 with 1 Axes>"
      ]
     },
     "metadata": {
      "needs_background": "light"
     },
     "output_type": "display_data"
    },
    {
     "data": {
      "image/png": "[encoded data removed]",
      "text/plain": [
       "<Figure size 720x432 with 1 Axes>"
      ]
     },
     "metadata": {
      "needs_background": "light"
     },
     "output_type": "display_data"
    },
    {
     "data": {
      "image/png": "[encoded data removed]",
      "text/plain": [
       "<Figure size 720x432 with 1 Axes>"
      ]
     },
     "metadata": {
      "needs_background": "light"
     },
     "output_type": "display_data"
    },
    {
     "data": {
      "image/png": "[encoded data removed]",
      "text/plain": [
       "<Figure size 720x432 with 1 Axes>"
      ]
     },
     "metadata": {
      "needs_background": "light"
     },
     "output_type": "display_data"
    },
    {
     "data": {
      "image/png": "[encoded data removed]",
      "text/plain": [
       "<Figure size 720x432 with 1 Axes>"
      ]
     },
     "metadata": {
      "needs_background": "light"
     },
     "output_type": "display_data"
    },
    {
     "data": {
      "image/png": "[encoded data removed]",
      "text/plain": [
       "<Figure size 720x432 with 1 Axes>"
      ]
     },
     "metadata": {
      "needs_background": "light"
     },
     "output_type": "display_data"
    },
    {
     "data": {
      "image/png": "[encoded data removed]",
      "text/plain": [
       "<Figure size 720x432 with 1 Axes>"
      ]
     },
     "metadata": {
      "needs_background": "light"
     },
     "output_type": "display_data"
    },
    {
     "data": {
      "image/png": "[encoded data removed]",
      "text/plain": [
       "<Figure size 720x432 with 1 Axes>"
      ]
     },
     "metadata": {
      "needs_background": "light"
     },
     "output_type": "display_data"
    },
    {
     "data": {
      "image/png": "[encoded data removed]",
      "text/plain": [
       "<Figure size 720x432 with 1 Axes>"
      ]
     },
     "metadata": {
      "needs_background": "light"
     },
     "output_type": "display_data"
    },
    {
     "data": {
      "image/png": "[encoded data removed]",
      "text/plain": [
       "<Figure size 720x432 with 1 Axes>"
      ]
     },
     "metadata": {
      "needs_background": "light"
     },
     "output_type": "display_data"
    },
    {
     "data": {
      "image/png": "[encoded data removed]",
      "text/plain": [
       "<Figure size 720x432 with 1 Axes>"
      ]
     },
     "metadata": {
      "needs_background": "light"
     },
     "output_type": "display_data"
    },
    {
     "data": {
      "image/png": "[encoded data removed]",
      "text/plain": [
       "<Figure size 720x432 with 1 Axes>"
      ]
     },
     "metadata": {
      "needs_background": "light"
     },
     "output_type": "display_data"
    },
    {
     "data": {
      "image/png": "[encoded data removed]",
      "text/plain": [
       "<Figure size 720x432 with 1 Axes>"
      ]
     },
     "metadata": {
      "needs_background": "light"
     },
     "output_type": "display_data"
    },
    {
     "data": {
      "image/png": "[encoded data removed]",
      "text/plain": [
       "<Figure size 720x432 with 1 Axes>"
      ]
     },
     "metadata": {
      "needs_background": "light"
     },
     "output_type": "display_data"
    }
   ],
   "source": [
    "# Load the dataset\n",
    "df = pd.read_csv(\"C:\\\\Users\\\\User\\\\OneDrive\\\\Desktop\\\\phase_3_project\\\\Syriatel-telcom-phase-3-project\\\\bigml_59c28831336c6604c800002a.csv\")\n",
    "\n",
    "# List of numerical columns for which to create box plots\n",
    "numerical_columns = [\n",
    "    'account length', 'number vmail messages', 'total day minutes', \n",
    "    'total day calls', 'total day charge', 'total eve minutes', \n",
    "    'total eve calls', 'total eve charge', 'total night minutes', \n",
    "    'total night calls', 'total night charge', 'total intl minutes', \n",
    "    'total intl calls', 'total intl charge', 'customer service calls'\n",
    "]\n",
    "\n",
    "# Plot box plots for each numerical column\n",
    "for column in numerical_columns:\n",
    "    plt.figure(figsize=(10, 6))\n",
    "    sns.boxplot(x=df[column])\n",
    "    plt.title(f'Box Plot of {column}')\n",
    "    plt.show()"
   ]
  },
  {
   "cell_type": "code",
   "execution_count": 1381,
   "metadata": {},
   "outputs": [
    {
     "name": "stdout",
     "output_type": "stream",
     "text": [
      "Outliers detected in column 'account length':\n",
      "     account length\n",
      "197             208\n",
      "238             215\n",
      "309             209\n",
      "416             224\n",
      "817             243\n",
      "Outliers detected in column 'number vmail messages':\n",
      "     number vmail messages\n",
      "845                     51\n",
      "Outliers detected in column 'total day minutes':\n",
      "     total day minutes\n",
      "15               332.9\n",
      "156              337.4\n",
      "197              326.5\n",
      "365              350.8\n",
      "605              335.5\n",
      "Outliers detected in column 'total day calls':\n",
      "      total day calls\n",
      "315               158\n",
      "468               163\n",
      "692                36\n",
      "740                40\n",
      "1057              158\n",
      "Outliers detected in column 'total day charge':\n",
      "     total day charge\n",
      "15              56.59\n",
      "156             57.36\n",
      "197             55.51\n",
      "365             59.64\n",
      "605             57.04\n",
      "Outliers detected in column 'total eve minutes':\n",
      "     total eve minutes\n",
      "3                 61.9\n",
      "6                348.5\n",
      "8                351.6\n",
      "32                31.2\n",
      "302              350.5\n",
      "Outliers detected in column 'total eve calls':\n",
      "     total eve calls\n",
      "58               164\n",
      "154               46\n",
      "301              168\n",
      "475               42\n",
      "646               37\n",
      "Outliers detected in column 'total eve charge':\n",
      "     total eve charge\n",
      "3                5.26\n",
      "6               29.62\n",
      "8               29.89\n",
      "32               2.65\n",
      "302             29.79\n",
      "Outliers detected in column 'total night minutes':\n",
      "     total night minutes\n",
      "116                 57.5\n",
      "244                354.9\n",
      "444                349.2\n",
      "862                345.8\n",
      "883                 45.0\n",
      "Outliers detected in column 'total night calls':\n",
      "     total night calls\n",
      "315                 46\n",
      "326                 42\n",
      "335                 44\n",
      "395                 42\n",
      "429                153\n",
      "Outliers detected in column 'total night charge':\n",
      "     total night charge\n",
      "116                2.59\n",
      "244               15.97\n",
      "444               15.71\n",
      "862               15.56\n",
      "883                2.03\n",
      "Outliers detected in column 'total intl minutes':\n",
      "     total intl minutes\n",
      "115                20.0\n",
      "179                 0.0\n",
      "214                17.6\n",
      "225                 2.7\n",
      "314                18.9\n",
      "Outliers detected in column 'total intl calls':\n",
      "     total intl calls\n",
      "22                 19\n",
      "41                 15\n",
      "153                11\n",
      "182                12\n",
      "185                13\n",
      "Outliers detected in column 'total intl charge':\n",
      "     total intl charge\n",
      "115               5.40\n",
      "179               0.00\n",
      "214               4.75\n",
      "225               0.73\n",
      "314               5.10\n",
      "Outliers detected in column 'customer service calls':\n",
      "    customer service calls\n",
      "10                       4\n",
      "14                       4\n",
      "15                       4\n",
      "21                       5\n",
      "48                       5\n"
     ]
    }
   ],
   "source": [
    "def detect_outliers_iqr(df, column):\n",
    "    Q1 = df[column].quantile(0.25)\n",
    "    Q3 = df[column].quantile(0.75)\n",
    "    IQR = Q3 - Q1\n",
    "    lower_bound = Q1 - 1.5 * IQR\n",
    "    upper_bound = Q3 + 1.5 * IQR\n",
    "    outliers = df[(df[column] < lower_bound) | (df[column] > upper_bound)]\n",
    "    return outliers\n",
    "\n",
    "# Check each numerical column for outliers\n",
    "for column in numerical_columns:\n",
    "    outliers = detect_outliers_iqr(df, column)\n",
    "    if not outliers.empty:\n",
    "        print(f\"Outliers detected in column '{column}':\")\n",
    "        print(outliers[[column]].head())  # Print a few outlier values\n",
    "    else:\n",
    "        print(f\"No outliers detected in column '{column}'.\")"
   ]
  },
  {
   "cell_type": "code",
   "execution_count": 1382,
   "metadata": {},
   "outputs": [
    {
     "name": "stdout",
     "output_type": "stream",
     "text": [
      "DataFrame after imputing outliers with mean:\n",
      "   account length  number vmail messages  total day minutes  total day calls  \\\n",
      "0      100.000000               1.000000          10.500000            100.0   \n",
      "1      200.000000               2.000000          20.700000            200.0   \n",
      "2      300.000000               3.000000          30.100000            300.0   \n",
      "3      400.000000               4.000000          40.000000            400.0   \n",
      "4      500.000000               5.000000          50.200000            500.0   \n",
      "5      600.000000               6.000000          60.300000            600.0   \n",
      "6     1728.571429              17.285714         173.114286           1000.0   \n",
      "\n",
      "   total day charge  total eve minutes  total eve calls  total eve charge  \\\n",
      "0          1.500000           5.500000             50.0          0.500000   \n",
      "1          2.700000          15.700000            150.0          1.700000   \n",
      "2          3.100000          25.100000            250.0          2.100000   \n",
      "3          4.000000          35.000000            350.0          3.000000   \n",
      "4          5.200000          45.200000            450.0          4.200000   \n",
      "5          6.300000          55.300000            550.0          5.300000   \n",
      "6         31.828571          54.542857            400.0          5.257143   \n",
      "\n",
      "   total night minutes  total night calls  total night charge  \n",
      "0             2.500000          20.000000            0.200000  \n",
      "1            12.700000         120.000000            1.700000  \n",
      "2            22.100000         220.000000            2.100000  \n",
      "3            32.000000         320.000000            3.000000  \n",
      "4            42.200000         420.000000            4.200000  \n",
      "5            52.300000         520.000000            5.300000  \n",
      "6            44.828571         374.285714            3.785714  \n"
     ]
    }
   ],
   "source": [
    "import pandas as pd\n",
    "import numpy as np\n",
    "data = {\n",
    "    'account length': [100, 200, 300, 400, 500, 600, 10000],  # 10000 is an outlier\n",
    "    'number vmail messages': [1, 2, 3, 4, 5, 6, 100],  # 100 is an outlier\n",
    "    'total day minutes': [10.5, 20.7, 30.1, 40.0, 50.2, 60.3, 1000.0],  # 1000.0 is an outlier\n",
    "    'total day calls': [100, 200, 300, 400, 500, 600, 1000],  # 1000 is an outlier\n",
    "    'total day charge': [1.5, 2.7, 3.1, 4.0, 5.2, 6.3, 200.0],  # 200.0 is an outlier\n",
    "    'total eve minutes': [5.5, 15.7, 25.1, 35.0, 45.2, 55.3, 200.0],  # 200.0 is an outlier\n",
    "    'total eve calls': [50, 150, 250, 350, 450, 550, 1000],  # 1000 is an outlier\n",
    "    'total eve charge': [0.5, 1.7, 2.1, 3.0, 4.2, 5.3, 20.0],  # 20.0 is an outlier\n",
    "    'total night minutes': [2.5, 12.7, 22.1, 32.0, 42.2, 52.3, 150.0],  # 150.0 is an outlier\n",
    "    'total night calls': [20, 120, 220, 320, 420, 520, 1000],  # 1000 is an outlier\n",
    "    'total night charge': [0.2, 1.7, 2.1, 3.0, 4.2, 5.3, 10.0]  # 10.0 is an outlier\n",
    "}\n",
    "df = pd.DataFrame(data)\n",
    "\n",
    "# Identify numerical columns\n",
    "numerical_columns = df.select_dtypes(include=[np.number]).columns\n",
    "\n",
    "# Define a function to handle outliers by imputing with mean\n",
    "def impute_outliers_with_mean(df, column):\n",
    "    Q1 = df[column].quantile(0.25)\n",
    "    Q3 = df[column].quantile(0.75)\n",
    "    IQR = Q3 - Q1\n",
    "    lower_bound = Q1 - 1.5 * IQR\n",
    "    upper_bound = Q3 + 1.5 * IQR\n",
    "    mean_value = df[column].mean()\n",
    "    # Impute outliers with mean\n",
    "    df.loc[df[column] < lower_bound, column] = mean_value\n",
    "    df.loc[df[column] > upper_bound, column] = mean_value\n",
    "\n",
    "# Apply the function to all numerical columns\n",
    "for column in numerical_columns:\n",
    "    impute_outliers_with_mean(df, column)\n",
    "\n",
    "# Display the DataFrame after handling outliers\n",
    "print(\"DataFrame after imputing outliers with mean:\")\n",
    "print(df)"
   ]
  },
  {
   "cell_type": "code",
   "execution_count": 1383,
   "metadata": {},
   "outputs": [
    {
     "name": "stdout",
     "output_type": "stream",
     "text": [
      "Columns in DataFrame: Index(['state', 'account length', 'area code', 'phone number',\n",
      "       'international plan', 'voice mail plan', 'number vmail messages',\n",
      "       'total day minutes', 'total day calls', 'total day charge',\n",
      "       'total eve minutes', 'total eve calls', 'total eve charge',\n",
      "       'total night minutes', 'total night calls', 'total night charge',\n",
      "       'total intl minutes', 'total intl calls', 'total intl charge',\n",
      "       'customer service calls', 'churn'],\n",
      "      dtype='object')\n"
     ]
    }
   ],
   "source": [
    "# Reload the dataset\n",
    "df = pd.read_csv(\"C:\\\\Users\\\\User\\\\OneDrive\\\\Desktop\\\\phase_3_project\\\\Syriatel-telcom-phase-3-project\\\\bigml_59c28831336c6604c800002a.csv\")\n",
    "\n",
    "# Check the columns\n",
    "print(\"Columns in DataFrame:\", df.columns)"
   ]
  },
  {
   "cell_type": "markdown",
   "metadata": {},
   "source": [
    " Declare feature vector and target variable"
   ]
  },
  {
   "cell_type": "code",
   "execution_count": 1384,
   "metadata": {},
   "outputs": [],
   "source": [
    "X = df.drop(['churn'], axis=1)\n",
    "\n",
    "y = df['churn']"
   ]
  },
  {
   "cell_type": "markdown",
   "metadata": {},
   "source": [
    "Split data into separate training and test set"
   ]
  },
  {
   "cell_type": "code",
   "execution_count": 1385,
   "metadata": {},
   "outputs": [],
   "source": [
    "# split X and y into training and testing sets\n",
    "from sklearn.model_selection import train_test_split\n",
    "X_train, X_test, y_train, y_test = train_test_split(X, y, test_size = 0.2, random_state = 0)"
   ]
  },
  {
   "cell_type": "code",
   "execution_count": 1386,
   "metadata": {},
   "outputs": [
    {
     "data": {
      "text/plain": [
       "((2666, 20), (667, 20))"
      ]
     },
     "execution_count": 1386,
     "metadata": {},
     "output_type": "execute_result"
    }
   ],
   "source": [
    "# check the shape of X_train and X_test\n",
    "X_train.shape, X_test.shape"
   ]
  },
  {
   "cell_type": "markdown",
   "metadata": {},
   "source": [
    "Feature Engineering\n",
    "Feature Engineering is the process of transforming raw data into useful features that help us to understand our model better and increase its predictive power. I will carry out feature engineering on different types of variables.\n",
    "\n",
    "First, I will display the categorical and numerical variables again separately."
   ]
  },
  {
   "cell_type": "code",
   "execution_count": 1387,
   "metadata": {},
   "outputs": [
    {
     "name": "stdout",
     "output_type": "stream",
     "text": [
      "Missing values in X_train:\n",
      "No missing values.\n",
      "\n",
      "Missing values in X_test:\n",
      "No missing values.\n",
      "\n",
      "Missing values in X_train:\n",
      "No missing values in categorical columns.\n",
      "No missing values in numerical columns.\n",
      "\n",
      "Missing values in X_test:\n",
      "No missing values in categorical columns.\n",
      "No missing values in numerical columns.\n",
      "\n"
     ]
    }
   ],
   "source": [
    "# Function to check missing values\n",
    "def check_missing_values(df, dataset_name):\n",
    "    print(f\"Missing values in {dataset_name}:\")\n",
    "    missing_counts = df.isnull().sum()\n",
    "    missing_counts = missing_counts[missing_counts > 0]\n",
    "    if missing_counts.empty:\n",
    "        print(\"No missing values.\")\n",
    "    else:\n",
    "        print(missing_counts)\n",
    "    print()\n",
    "\n",
    "# Check missing values in training and testing sets\n",
    "check_missing_values(X_train, 'X_train')\n",
    "check_missing_values(X_test, 'X_test')\n",
    "\n",
    "# Identify categorical and numerical columns\n",
    "categorical_columns = X_train.select_dtypes(include=['object', 'bool']).columns\n",
    "numerical_columns = X_train.select_dtypes(include=['float64', 'int64']).columns\n",
    "\n",
    "# Function to summarize missing values for categorical and numerical data separately\n",
    "def summarize_missing_values(df, categorical_cols, numerical_cols, dataset_name):\n",
    "    print(f\"Missing values in {dataset_name}:\")\n",
    "    \n",
    "    # Categorical columns\n",
    "    cat_missing = df[categorical_cols].isnull().sum()\n",
    "    cat_missing = cat_missing[cat_missing > 0]\n",
    "    \n",
    "    # Numerical columns\n",
    "    num_missing = df[numerical_cols].isnull().sum()\n",
    "    num_missing = num_missing[num_missing > 0]\n",
    "    \n",
    "    if not cat_missing.empty:\n",
    "        print(\"Categorical Columns with Missing Values:\")\n",
    "        print(cat_missing)\n",
    "    else:\n",
    "        print(\"No missing values in categorical columns.\")\n",
    "    \n",
    "    if not num_missing.empty:\n",
    "        print(\"Numerical Columns with Missing Values:\")\n",
    "        print(num_missing)\n",
    "    else:\n",
    "        print(\"No missing values in numerical columns.\")\n",
    "    \n",
    "    print()\n",
    "\n",
    "# Summarize missing values for categorical and numerical data in both training and testing sets\n",
    "summarize_missing_values(X_train, categorical_columns, numerical_columns, 'X_train')\n",
    "summarize_missing_values(X_test, categorical_columns, numerical_columns, 'X_test')"
   ]
  },
  {
   "cell_type": "markdown",
   "metadata": {},
   "source": [
    "We donot have missing values in all the columns"
   ]
  },
  {
   "cell_type": "code",
   "execution_count": 1388,
   "metadata": {},
   "outputs": [],
   "source": [
    "#Convert Boolean to Integer\n",
    "df['churn'] = df['churn'].astype(int)"
   ]
  },
  {
   "cell_type": "code",
   "execution_count": 1389,
   "metadata": {},
   "outputs": [],
   "source": [
    "categorical_columns = X.select_dtypes(include=['object']).columns\n",
    "numerical_columns = X.select_dtypes(include=['float64', 'int64']).columns"
   ]
  },
  {
   "cell_type": "code",
   "execution_count": 1390,
   "metadata": {},
   "outputs": [
    {
     "name": "stdout",
     "output_type": "stream",
     "text": [
      "Column: account length\n",
      "Series([], Name: account length, dtype: int64)\n",
      "Column: area code\n",
      "Series([], Name: area code, dtype: int64)\n",
      "Column: number vmail messages\n",
      "Series([], Name: number vmail messages, dtype: int64)\n",
      "Column: total day minutes\n",
      "Series([], Name: total day minutes, dtype: float64)\n",
      "Column: total day calls\n",
      "Series([], Name: total day calls, dtype: int64)\n",
      "Column: total day charge\n",
      "Series([], Name: total day charge, dtype: float64)\n",
      "Column: total eve minutes\n",
      "Series([], Name: total eve minutes, dtype: float64)\n",
      "Column: total eve calls\n",
      "Series([], Name: total eve calls, dtype: int64)\n",
      "Column: total eve charge\n",
      "Series([], Name: total eve charge, dtype: float64)\n",
      "Column: total night minutes\n",
      "Series([], Name: total night minutes, dtype: float64)\n",
      "Column: total night calls\n",
      "Series([], Name: total night calls, dtype: int64)\n",
      "Column: total night charge\n",
      "Series([], Name: total night charge, dtype: float64)\n",
      "Column: total intl minutes\n",
      "Series([], Name: total intl minutes, dtype: float64)\n",
      "Column: total intl calls\n",
      "Series([], Name: total intl calls, dtype: int64)\n",
      "Column: total intl charge\n",
      "Series([], Name: total intl charge, dtype: float64)\n",
      "Column: customer service calls\n",
      "Series([], Name: customer service calls, dtype: int64)\n"
     ]
    }
   ],
   "source": [
    "# Check for non-numeric values in categorical columns\n",
    "categorical_columns = df.select_dtypes(include=['float64', 'int64']).columns\n",
    "for col in categorical_columns:\n",
    "    print(f\"Column: {col}\")\n",
    "    print(df[~df[col].apply(pd.to_numeric, errors='coerce').notna()][col])"
   ]
  },
  {
   "cell_type": "code",
   "execution_count": 1391,
   "metadata": {},
   "outputs": [
    {
     "name": "stdout",
     "output_type": "stream",
     "text": [
      "state                     0\n",
      "account length            0\n",
      "area code                 0\n",
      "phone number              0\n",
      "international plan        0\n",
      "voice mail plan           0\n",
      "number vmail messages     0\n",
      "total day minutes         0\n",
      "total day calls           0\n",
      "total day charge          0\n",
      "total eve minutes         0\n",
      "total eve calls           0\n",
      "total eve charge          0\n",
      "total night minutes       0\n",
      "total night calls         0\n",
      "total night charge        0\n",
      "total intl minutes        0\n",
      "total intl calls          0\n",
      "total intl charge         0\n",
      "customer service calls    0\n",
      "churn                     0\n",
      "dtype: int64\n"
     ]
    }
   ],
   "source": [
    "print(df.isnull().sum())"
   ]
  },
  {
   "cell_type": "code",
   "execution_count": 1392,
   "metadata": {},
   "outputs": [
    {
     "name": "stdout",
     "output_type": "stream",
     "text": [
      "Unique values in 'account length': [128 107 137  84  75 118 121 147 117 141  65  74 168  95  62 161  85  93\n",
      "  76  73  77 130 111 132 174  57  54  20  49 142 172  12  72  36  78 136\n",
      " 149  98 135  34 160  64  59 119  97  52  60  10  96  87  81  68 125 116\n",
      "  38  40  43 113 126 150 138 162  90  50  82 144  46  70  55 106  94 155\n",
      "  80 104  99 120 108 122 157 103  63 112  41 193  61  92 131 163  91 127\n",
      " 110 140  83 145  56 151 139   6 115 146 185 148  32  25 179  67  19 170\n",
      " 164  51 208  53 105  66  86  35  88 123  45 100 215  22  33 114  24 101\n",
      " 143  48  71 167  89 199 166 158 196 209  16  39 173 129  44  79  31 124\n",
      "  37 159 194 154  21 133 224  58  11 109 102 165  18  30 176  47 190 152\n",
      "  26  69 186 171  28 153 169  13  27   3  42 189 156 134 243  23   1 205\n",
      " 200   5   9 178 181 182 217 177 210  29 180   2  17   7 212 232 192 195\n",
      " 197 225 184 191 201  15 183 202   8 175   4 188 204 221]\n",
      "Unique values in 'area code': [415 408 510]\n",
      "Unique values in 'number vmail messages': [25 26  0 24 37 27 33 39 30 41 28 34 46 29 35 21 32 42 36 22 23 43 31 38\n",
      " 40 48 18 17 45 16 20 14 19 51 15 11 12 47  8 44 49  4 10 13 50  9]\n",
      "Unique values in 'total day minutes': [265.1 161.6 243.4 ... 321.1 231.1 180.8]\n",
      "Unique values in 'total day calls': [110 123 114  71 113  98  88  79  97  84 137 127  96  70  67 139  66  90\n",
      " 117  89 112 103  86  76 115  73 109  95 105 121 118  94  80 128  64 106\n",
      " 102  85  82  77 120 133 135 108  57  83 129  91  92  74  93 101 146  72\n",
      "  99 104 125  61 100  87 131  65 124 119  52  68 107  47 116 151 126 122\n",
      " 111 145  78 136 140 148  81  55  69 158 134 130  63  53  75 141 163  59\n",
      " 132 138  54  58  62 144 143 147  36  40 150  56  51 165  30  48  60  42\n",
      "   0  45 160 149 152 142 156  35  49 157  44]\n",
      "Unique values in 'total day charge': [45.07 27.47 41.38 ... 54.59 39.29 30.74]\n",
      "Unique values in 'total eve minutes': [197.4 195.5 121.2 ... 153.4 288.8 265.9]\n",
      "Unique values in 'total eve calls': [ 99 103 110  88 122 101 108  94  80 111  83 148  71  75  76  97  90  65\n",
      "  93 121 102  72 112 100  84 109  63 107 115 119 116  92  85  98 118  74\n",
      " 117  58  96  66  67  62  77 164 126 142  64 104  79  95  86 105  81 113\n",
      " 106  59  48  82  87 123 114 140 128  60  78 125  91  46 138 129  89 133\n",
      " 136  57 135 139  51  70 151 137 134  73 152 168  68 120  69 127 132 143\n",
      "  61 124  42  54 131  52 149  56  37 130  49 146 147  55  12  50 157 155\n",
      "  45 144  36 156  53 141  44 153 154 150  43   0 145 159 170]\n",
      "Unique values in 'total eve charge': [16.78 16.62 10.3  ... 13.04 24.55 22.6 ]\n",
      "Unique values in 'total night minutes': [244.7 254.4 162.6 ... 280.9 120.1 279.1]\n",
      "Unique values in 'total night calls': [ 91 103 104  89 121 118  96  90  97 111  94 128 115  99  75 108  74 133\n",
      "  64  78 105  68 102 148  98 116  71 109 107 135  92  86 127  79  87 129\n",
      "  57  77  95  54 106  53  67 139  60 100  61  73 113  76 119  88  84  62\n",
      " 137  72 142 114 126 122  81 123 117  82  80 120 130 134  59 112 132 110\n",
      " 101 150  69 131  83  93 124 136 125  66 143  58  55  85  56  70  46  42\n",
      " 152  44 145  50 153  49 175  63 138 154 140 141 146  65  51 151 158 155\n",
      " 157 147 144 149 166  52  33 156  38  36  48 164]\n",
      "Unique values in 'total night charge': [11.01 11.45  7.32  8.86  8.41  9.18  9.57  9.53  9.71 14.69  9.4   8.82\n",
      "  6.35  8.65  9.14  7.23  4.02  5.83  7.46  8.68  9.43  8.18  8.53 10.67\n",
      " 11.28  8.22  4.59  8.17  8.04 11.27 11.08 13.2  12.61  9.61  6.88  5.82\n",
      " 10.25  4.58  8.47  8.45  5.5  14.02  8.03 11.94  7.34  6.06 10.9   6.44\n",
      "  3.18 10.66 11.21 12.73 10.28 12.16  6.34  8.15  5.84  8.52  7.5   7.48\n",
      "  6.21 11.95  7.15  9.63  7.1   6.91  6.69 13.29 11.46  7.76  6.86  8.16\n",
      " 12.15  7.79  7.99 10.29 10.08 12.53  7.91 10.02  8.61 14.54  8.21  9.09\n",
      "  4.93 11.39 11.88  5.75  7.83  8.59  7.52 12.38  7.21  5.81  8.1  11.04\n",
      " 11.19  8.55  8.42  9.76  9.87 10.86  5.36 10.03 11.15  9.51  6.22  2.59\n",
      "  7.65  6.45  9.    6.4   9.94  5.08 10.23 11.36  6.97 10.16  7.88 11.91\n",
      "  6.61 11.55 11.76  9.27  9.29 11.12 10.69  8.8  11.85  7.14  8.71 11.42\n",
      "  4.94  9.02 11.22  4.97  9.15  5.45  7.27 12.91  7.75 13.46  6.32 12.13\n",
      " 11.97  6.93 11.66  7.42  6.19 11.41 10.33 10.65 11.92  4.77  4.38  7.41\n",
      " 12.1   7.69  8.78  9.36  9.05 12.7   6.16  6.05 10.85  8.93  3.48 10.4\n",
      "  5.05 10.71  9.37  6.75  8.12 11.77 11.49 11.06 11.25 11.03 10.82  8.91\n",
      "  8.57  8.09 10.05 11.7  10.17  8.74  5.51 11.11  3.29 10.13  6.8   8.49\n",
      "  9.55 11.02  9.91  7.84 10.62  9.97  3.44  7.35  9.79  8.89  8.14  6.94\n",
      " 10.49 10.57 10.2   6.29  8.79 10.04 12.41 15.97  9.1  11.78 12.75 11.07\n",
      " 12.56  8.63  8.02 10.42  8.7   9.98  7.62  8.33  6.59 13.12 10.46  6.63\n",
      "  8.32  9.04  9.28 10.76  9.64 11.44  6.48 10.81 12.66 11.34  8.75 13.05\n",
      " 11.48 14.04 13.47  5.63  6.6   9.72 11.68  6.41  9.32 12.95 13.37  9.62\n",
      "  6.03  8.25  8.26 11.96  9.9   9.23  5.58  7.22  6.64 12.29 12.93 11.32\n",
      "  6.85  8.88  7.03  8.48  3.59  5.86  6.23  7.61  7.66 13.63  7.9  11.82\n",
      "  7.47  6.08  8.4   5.74 10.94 10.35 10.68  4.34  8.73  5.14  8.24  9.99\n",
      " 13.93  8.64 11.43  5.79  9.2  10.14 12.11  7.53 12.46  8.46  8.95  9.84\n",
      " 10.8  11.23 10.15  9.21 14.46  6.67 12.83  9.66  9.59 10.48  8.36  4.84\n",
      " 10.54  8.39  7.43  9.06  8.94 11.13  8.87  8.5   7.6  10.73  9.56 10.77\n",
      "  7.73  3.47 11.86  8.11  9.78  9.42  9.65  7.    7.39  9.88  6.56  5.92\n",
      "  6.95 15.71  8.06  4.86  7.8   8.58 10.06  5.21  6.92  6.15 13.49  9.38\n",
      " 12.62 12.26  8.19 11.65 11.62 10.83  7.92  7.33 13.01 13.26 12.22 11.58\n",
      "  5.97 10.99  8.38  9.17  8.08  5.71  3.41 12.63 11.79 12.96  7.64  6.58\n",
      " 10.84 10.22  6.52  5.55  7.63  5.11  5.89 10.78  3.05 11.89  8.97 10.44\n",
      " 10.5   9.35  5.66 11.09  9.83  5.44 10.11  6.39 11.93  8.62 12.06  6.02\n",
      "  8.85  5.25  8.66  6.73 10.21 11.59 13.87  7.77 10.39  5.54  6.62 13.33\n",
      "  6.24 12.59  6.3   6.79  8.28  9.03  8.07  5.52 12.14 10.59  7.54  7.67\n",
      "  5.47  8.81  8.51 13.45  8.77  6.43 12.01 12.08  7.07  6.51  6.84  9.48\n",
      " 13.78 11.54 11.67  8.13 10.79  7.13  4.72  4.64  8.96 13.03  6.07  3.51\n",
      "  6.83  6.12  9.31  9.58  4.68  5.32  9.26 11.52  9.11 10.55 11.47  9.3\n",
      " 13.82  8.44  5.77 10.96 11.74  8.9  10.47  7.85 10.92  4.74  9.74 10.43\n",
      "  9.96 10.18  9.54  7.89 12.36  8.54 10.07  9.46  7.3  11.16  9.16 10.19\n",
      "  5.99 10.88  5.8   7.19  4.55  8.31  8.01 14.43  8.3  14.3   6.53  8.2\n",
      " 11.31 13.    6.42  4.24  7.44  7.51 13.1   9.49  6.14  8.76  6.65 10.56\n",
      "  6.72  8.29 12.09  5.39  2.96  7.59  7.24  4.28  9.7   8.83 13.3  11.37\n",
      "  9.33  5.01  3.26 11.71  8.43  9.68 15.56  9.8   3.61  6.96 11.61 12.81\n",
      " 10.87 13.84  5.03  5.17  2.03 10.34  9.34  7.95 10.09  9.95  7.11  9.22\n",
      "  6.13 11.05  9.89  9.39 14.06 10.26 13.31 15.43 16.39  6.27 10.64 11.5\n",
      " 12.48  8.27 13.53 10.36 12.24  8.69 10.52  9.07 11.51  9.25  8.72  6.78\n",
      "  8.6  11.84  5.78  5.85 12.3   5.76 12.07  9.6   8.84 12.39 10.1   9.73\n",
      "  2.85  6.66  2.45  5.28 11.73 10.75  7.74  6.76  6.    7.58 13.69  7.93\n",
      "  7.68  9.75  4.96  5.49 11.83  7.18  9.19  7.7   7.25 10.74  4.27 13.8\n",
      "  9.12  4.75  7.78 11.63  7.55  2.25  9.45  9.86  7.71  4.95  7.4  11.17\n",
      " 11.33  6.82 13.7   1.97 10.89 12.77 10.31  5.23  5.27  9.41  6.09 10.61\n",
      "  7.29  4.23  7.57  3.67 12.69 14.5   5.95  7.87  5.96  5.94 12.23  4.9\n",
      " 12.33  6.89  9.67 12.68 12.87  3.7   6.04 13.13 15.74 11.87  4.7   4.67\n",
      "  7.05  5.42  4.09  5.73  9.47  8.05  6.87  3.71 15.86  7.49 11.69  6.46\n",
      " 10.45 12.9   5.41 11.26  1.04  6.49  6.37 12.21  6.77 12.65  7.86  9.44\n",
      "  4.3   7.38  5.02 10.63  2.86 17.19  8.67  8.37  6.9  10.93 10.38  7.36\n",
      " 10.27 10.95  6.11  4.45 11.9  15.01 12.84  7.45  6.98 11.72  7.56 11.38\n",
      " 10.    4.42  9.81  5.56  6.01 10.12 12.4  16.99  5.68 11.64  3.78  7.82\n",
      "  9.85 13.74 12.71 10.98 10.01  9.52  7.31  8.35 11.35  9.5  14.03  3.2\n",
      "  7.72 13.22 10.7   8.99 10.6  13.02  9.77 12.58 12.35 12.2  11.4  13.91\n",
      "  3.57 14.65 12.28  5.13 10.72 12.86 14.    7.12 12.17  4.71  6.28  8.\n",
      "  7.01  5.91  5.2  12.   12.02 12.88  7.28  5.4  12.04  5.24 10.3  10.41\n",
      " 13.41 12.72  9.08  7.08 13.5   5.35 12.45  5.3  10.32  5.15 12.67  5.22\n",
      "  5.57  3.94  4.41 13.27 10.24  4.25 12.89  5.72 12.5  11.29  3.25 11.53\n",
      "  9.82  7.26  4.1  10.37  4.98  6.74 12.52 14.56  8.34  3.82  3.86 13.97\n",
      " 11.57  6.5  13.58 14.32 13.75 11.14 14.18  9.13  4.46  4.83  9.69 14.13\n",
      "  7.16  7.98 13.66 14.78 11.2   9.93 11.    5.29  9.92  4.29 11.1  10.51\n",
      " 12.49  4.04 12.94  7.09  6.71  7.94  5.31  5.98  7.2  14.82 13.21 12.32\n",
      " 10.58  4.92  6.2   4.47 11.98  6.18  7.81  4.54  5.37  7.17  5.33 14.1\n",
      "  5.7  12.18  8.98  5.1  14.67 13.95 16.55 11.18  4.44  4.73  2.55  6.31\n",
      "  2.43  9.24  7.37 13.42 12.42 11.8  14.45  2.89 13.23 12.6  13.18 12.19\n",
      " 14.81  6.55 11.3  12.27 13.98  8.23 15.49  6.47 13.48 13.59 13.25 17.77\n",
      " 13.9   3.97 11.56 14.08 13.6   6.26  4.61 12.76 15.76  6.38  3.6  12.8\n",
      "  5.9   7.97  5.   10.97  5.88 12.34 12.03 14.97 15.06 12.85  6.54 11.24\n",
      " 12.64  7.06  5.38 13.14  3.99  3.32  4.51  4.12  3.93  2.4  11.75  4.03\n",
      " 15.85  6.81 14.25 14.09 16.42  6.7  12.74  2.76 12.12  6.99  6.68 11.81\n",
      "  7.96  5.06 13.16  2.13 13.17  5.12  5.65 12.37 10.53]\n",
      "Unique values in 'total intl minutes': [10.  13.7 12.2  6.6 10.1  6.3  7.5  7.1  8.7 11.2 12.7  9.1 12.3 13.1\n",
      "  5.4 13.8  8.1 13.  10.6  5.7  9.5  7.7 10.3 15.5 14.7 11.1 14.2 12.6\n",
      " 11.8  8.3 14.5 10.5  9.4 14.6  9.2  3.5  8.5 13.2  7.4  8.8 11.   7.8\n",
      "  6.8 11.4  9.3  9.7 10.2  8.   5.8 12.1 12.  11.6  8.2  6.2  7.3  6.1\n",
      " 11.7 15.   9.8 12.4  8.6 10.9 13.9  8.9  7.9  5.3  4.4 12.5 11.3  9.\n",
      "  9.6 13.3 20.   7.2  6.4 14.1 14.3  6.9 11.5 15.8 12.8 16.2  0.  11.9\n",
      "  9.9  8.4 10.8 13.4 10.7 17.6  4.7  2.7 13.5 12.9 14.4 10.4  6.7 15.4\n",
      "  4.5  6.5 15.6  5.9 18.9  7.6  5.   7.  14.  18.  16.  14.8  3.7  2.\n",
      "  4.8 15.3  6.  13.6 17.2 17.5  5.6 18.2  3.6 16.5  4.6  5.1  4.1 16.3\n",
      " 14.9 16.4 16.7  1.3 15.2 15.1 15.9  5.5 16.1  4.  16.9  5.2  4.2 15.7\n",
      " 17.   3.9  3.8  2.2 17.1  4.9 17.9 17.3 18.4 17.8  4.3  2.9  3.1  3.3\n",
      "  2.6  3.4  1.1 18.3 16.6  2.1  2.4  2.5]\n",
      "Unique values in 'total intl calls': [ 3  5  7  6  4  2  9 19  1 10 15  8 11  0 12 13 18 14 16 20 17]\n",
      "Unique values in 'total intl charge': [2.7  3.7  3.29 1.78 2.73 1.7  2.03 1.92 2.35 3.02 3.43 2.46 3.32 3.54\n",
      " 1.46 3.73 2.19 3.51 2.86 1.54 2.57 2.08 2.78 4.19 3.97 3.   3.83 3.4\n",
      " 3.19 2.24 3.92 2.84 2.54 3.94 2.48 0.95 2.3  3.56 2.   2.38 2.97 2.11\n",
      " 1.84 3.08 2.51 2.62 2.75 2.16 1.57 3.27 3.24 3.13 2.21 1.67 1.97 1.65\n",
      " 3.16 4.05 2.65 3.35 2.32 2.94 3.75 2.4  2.13 1.43 1.19 3.38 3.05 2.43\n",
      " 2.59 3.59 5.4  1.94 1.73 3.81 3.86 1.86 3.11 4.27 3.46 4.37 0.   3.21\n",
      " 2.67 2.27 2.92 3.62 2.89 4.75 1.27 0.73 3.65 3.48 3.89 2.81 1.81 4.16\n",
      " 1.22 1.76 4.21 1.59 5.1  2.05 1.35 1.89 3.78 4.86 4.32 4.   1.   0.54\n",
      " 1.3  4.13 1.62 3.67 4.64 4.73 1.51 4.91 0.97 4.46 1.24 1.38 1.11 4.4\n",
      " 4.02 4.43 4.51 0.35 4.1  4.08 4.29 1.49 4.35 1.08 4.56 1.4  1.13 4.24\n",
      " 4.59 1.05 1.03 0.59 4.62 1.32 4.83 4.67 4.97 4.81 1.16 0.78 0.84 0.89\n",
      " 0.7  0.92 0.3  4.94 4.48 0.57 0.65 0.68]\n",
      "Unique values in 'customer service calls': [1 0 2 3 4 5 7 9 6 8]\n"
     ]
    }
   ],
   "source": [
    "for col in df.columns:\n",
    "    if df[col].dtype in ['int64', 'float64']:\n",
    "        print(f\"Unique values in '{col}': {df[col].unique()}\")"
   ]
  },
  {
   "cell_type": "code",
   "execution_count": 1393,
   "metadata": {},
   "outputs": [
    {
     "name": "stdout",
     "output_type": "stream",
     "text": [
      "state                       int32\n",
      "account length              int64\n",
      "area code                   int64\n",
      "phone number                int32\n",
      "international plan          int32\n",
      "voice mail plan             int32\n",
      "number vmail messages       int64\n",
      "total day minutes         float64\n",
      "total day calls             int64\n",
      "total day charge          float64\n",
      "total eve minutes         float64\n",
      "total eve calls             int64\n",
      "total eve charge          float64\n",
      "total night minutes       float64\n",
      "total night calls           int64\n",
      "total night charge        float64\n",
      "total intl minutes        float64\n",
      "total intl calls            int64\n",
      "total intl charge         float64\n",
      "customer service calls      int64\n",
      "churn                       int32\n",
      "dtype: object\n"
     ]
    }
   ],
   "source": [
    "# List of categorical columns\n",
    "categorical_columns = ['state', 'phone number', 'international plan', 'voice mail plan']\n",
    "boolean_columns = ['churn']\n",
    "\n",
    "# Convert categorical columns using Label Encoding\n",
    "label_encoders = {}\n",
    "for col in categorical_columns:\n",
    "    le = LabelEncoder()\n",
    "    df[col] = le.fit_transform(df[col].astype(str))  # Convert to string if necessary\n",
    "    label_encoders[col] = le\n",
    "\n",
    "# Convert boolean columns\n",
    "df[boolean_columns] = df[boolean_columns].astype(int)\n",
    "\n",
    "# Verify the data types after conversion\n",
    "print(df.dtypes)"
   ]
  },
  {
   "cell_type": "code",
   "execution_count": 1394,
   "metadata": {},
   "outputs": [],
   "source": [
    "# Identify categorical and numerical columns\n",
    "categorical_columns = ['state', 'phone number', 'international plan', 'voice mail plan']\n",
    "numerical_columns = X.select_dtypes(include=['float64', 'int64']).columns\n",
    "\n",
    "# Create a Column Transformer for preprocessing\n",
    "preprocessor = ColumnTransformer(\n",
    "    transformers=[\n",
    "        ('num', Pipeline(steps=[\n",
    "            ('imputer', SimpleImputer(strategy='median')),  # Handle missing values for numerical data\n",
    "            ('scaler', StandardScaler())  # Scale numerical features\n",
    "        ]), numerical_columns),\n",
    "        ('cat', Pipeline(steps=[\n",
    "            ('imputer', SimpleImputer(strategy='most_frequent')),  # Handle missing values for categorical data\n",
    "            ('onehot', OneHotEncoder(handle_unknown='ignore'))  # Convert categorical features to one-hot encoded\n",
    "        ]), categorical_columns)\n",
    "    ]\n",
    ")\n",
    "\n",
    "# Create the full pipeline with preprocessing and model\n",
    "model = Pipeline(steps=[\n",
    "    ('preprocessor', preprocessor),\n",
    "    ('classifier', LogisticRegression(solver='liblinear', random_state=0))\n",
    "])"
   ]
  },
  {
   "cell_type": "code",
   "execution_count": 1395,
   "metadata": {},
   "outputs": [
    {
     "name": "stdout",
     "output_type": "stream",
     "text": [
      "Training Accuracy: 0.9025\n",
      "Testing Accuracy: 0.8486\n"
     ]
    }
   ],
   "source": [
    "# Fit the model\n",
    "model.fit(X_train, y_train)\n",
    "\n",
    "# Check training accuracy\n",
    "print(f\"Training Accuracy: {model.score(X_train, y_train):.4f}\")\n",
    "\n",
    "# Check testing accuracy\n",
    "print(f\"Testing Accuracy: {model.score(X_test, y_test):.4f}\")"
   ]
  },
  {
   "cell_type": "markdown",
   "metadata": {},
   "source": [
    "Feature Scaling\n",
    "we should map all the feature variables onto the same scale. "
   ]
  },
  {
   "cell_type": "code",
   "execution_count": 1396,
   "metadata": {},
   "outputs": [
    {
     "data": {
      "text/html": [
       "<div>\n",
       "<style scoped>\n",
       "    .dataframe tbody tr th:only-of-type {\n",
       "        vertical-align: middle;\n",
       "    }\n",
       "\n",
       "    .dataframe tbody tr th {\n",
       "        vertical-align: top;\n",
       "    }\n",
       "\n",
       "    .dataframe thead th {\n",
       "        text-align: right;\n",
       "    }\n",
       "</style>\n",
       "<table border=\"1\" class=\"dataframe\">\n",
       "  <thead>\n",
       "    <tr style=\"text-align: right;\">\n",
       "      <th></th>\n",
       "      <th>account length</th>\n",
       "      <th>area code</th>\n",
       "      <th>number vmail messages</th>\n",
       "      <th>total day minutes</th>\n",
       "      <th>total day calls</th>\n",
       "      <th>total day charge</th>\n",
       "      <th>total eve minutes</th>\n",
       "      <th>total eve calls</th>\n",
       "      <th>total eve charge</th>\n",
       "      <th>total night minutes</th>\n",
       "      <th>total night calls</th>\n",
       "      <th>total night charge</th>\n",
       "      <th>total intl minutes</th>\n",
       "      <th>total intl calls</th>\n",
       "      <th>total intl charge</th>\n",
       "      <th>customer service calls</th>\n",
       "    </tr>\n",
       "  </thead>\n",
       "  <tbody>\n",
       "    <tr>\n",
       "      <th>count</th>\n",
       "      <td>2666.000000</td>\n",
       "      <td>2666.000000</td>\n",
       "      <td>2666.000000</td>\n",
       "      <td>2666.000000</td>\n",
       "      <td>2666.000000</td>\n",
       "      <td>2666.000000</td>\n",
       "      <td>2666.000000</td>\n",
       "      <td>2666.000000</td>\n",
       "      <td>2666.000000</td>\n",
       "      <td>2666.000000</td>\n",
       "      <td>2666.000000</td>\n",
       "      <td>2666.000000</td>\n",
       "      <td>2666.000000</td>\n",
       "      <td>2666.000000</td>\n",
       "      <td>2666.000000</td>\n",
       "      <td>2666.000000</td>\n",
       "    </tr>\n",
       "    <tr>\n",
       "      <th>mean</th>\n",
       "      <td>100.351463</td>\n",
       "      <td>437.351838</td>\n",
       "      <td>7.998500</td>\n",
       "      <td>179.960315</td>\n",
       "      <td>100.424231</td>\n",
       "      <td>30.593792</td>\n",
       "      <td>201.581808</td>\n",
       "      <td>100.087022</td>\n",
       "      <td>17.134659</td>\n",
       "      <td>201.218492</td>\n",
       "      <td>100.057389</td>\n",
       "      <td>9.054906</td>\n",
       "      <td>10.240548</td>\n",
       "      <td>4.477494</td>\n",
       "      <td>2.765439</td>\n",
       "      <td>1.554389</td>\n",
       "    </tr>\n",
       "    <tr>\n",
       "      <th>std</th>\n",
       "      <td>39.902158</td>\n",
       "      <td>42.488511</td>\n",
       "      <td>13.572182</td>\n",
       "      <td>54.233805</td>\n",
       "      <td>20.116856</td>\n",
       "      <td>9.219742</td>\n",
       "      <td>51.032044</td>\n",
       "      <td>20.031025</td>\n",
       "      <td>4.337756</td>\n",
       "      <td>50.615479</td>\n",
       "      <td>19.814583</td>\n",
       "      <td>2.277747</td>\n",
       "      <td>2.813472</td>\n",
       "      <td>2.439908</td>\n",
       "      <td>0.759618</td>\n",
       "      <td>1.317883</td>\n",
       "    </tr>\n",
       "    <tr>\n",
       "      <th>min</th>\n",
       "      <td>1.000000</td>\n",
       "      <td>408.000000</td>\n",
       "      <td>0.000000</td>\n",
       "      <td>0.000000</td>\n",
       "      <td>0.000000</td>\n",
       "      <td>0.000000</td>\n",
       "      <td>0.000000</td>\n",
       "      <td>0.000000</td>\n",
       "      <td>0.000000</td>\n",
       "      <td>23.200000</td>\n",
       "      <td>33.000000</td>\n",
       "      <td>1.040000</td>\n",
       "      <td>0.000000</td>\n",
       "      <td>0.000000</td>\n",
       "      <td>0.000000</td>\n",
       "      <td>0.000000</td>\n",
       "    </tr>\n",
       "    <tr>\n",
       "      <th>25%</th>\n",
       "      <td>73.000000</td>\n",
       "      <td>408.000000</td>\n",
       "      <td>0.000000</td>\n",
       "      <td>144.650000</td>\n",
       "      <td>87.000000</td>\n",
       "      <td>24.590000</td>\n",
       "      <td>166.925000</td>\n",
       "      <td>87.000000</td>\n",
       "      <td>14.192500</td>\n",
       "      <td>167.100000</td>\n",
       "      <td>86.000000</td>\n",
       "      <td>7.520000</td>\n",
       "      <td>8.500000</td>\n",
       "      <td>3.000000</td>\n",
       "      <td>2.300000</td>\n",
       "      <td>1.000000</td>\n",
       "    </tr>\n",
       "    <tr>\n",
       "      <th>50%</th>\n",
       "      <td>100.000000</td>\n",
       "      <td>415.000000</td>\n",
       "      <td>0.000000</td>\n",
       "      <td>179.400000</td>\n",
       "      <td>100.000000</td>\n",
       "      <td>30.500000</td>\n",
       "      <td>202.450000</td>\n",
       "      <td>100.000000</td>\n",
       "      <td>17.205000</td>\n",
       "      <td>201.200000</td>\n",
       "      <td>100.000000</td>\n",
       "      <td>9.055000</td>\n",
       "      <td>10.300000</td>\n",
       "      <td>4.000000</td>\n",
       "      <td>2.780000</td>\n",
       "      <td>1.000000</td>\n",
       "    </tr>\n",
       "    <tr>\n",
       "      <th>75%</th>\n",
       "      <td>127.000000</td>\n",
       "      <td>510.000000</td>\n",
       "      <td>19.000000</td>\n",
       "      <td>216.000000</td>\n",
       "      <td>114.000000</td>\n",
       "      <td>36.720000</td>\n",
       "      <td>236.200000</td>\n",
       "      <td>114.000000</td>\n",
       "      <td>20.080000</td>\n",
       "      <td>235.675000</td>\n",
       "      <td>114.000000</td>\n",
       "      <td>10.607500</td>\n",
       "      <td>12.100000</td>\n",
       "      <td>6.000000</td>\n",
       "      <td>3.270000</td>\n",
       "      <td>2.000000</td>\n",
       "    </tr>\n",
       "    <tr>\n",
       "      <th>max</th>\n",
       "      <td>232.000000</td>\n",
       "      <td>510.000000</td>\n",
       "      <td>51.000000</td>\n",
       "      <td>350.800000</td>\n",
       "      <td>165.000000</td>\n",
       "      <td>59.640000</td>\n",
       "      <td>363.700000</td>\n",
       "      <td>170.000000</td>\n",
       "      <td>30.910000</td>\n",
       "      <td>395.000000</td>\n",
       "      <td>175.000000</td>\n",
       "      <td>17.770000</td>\n",
       "      <td>20.000000</td>\n",
       "      <td>20.000000</td>\n",
       "      <td>5.400000</td>\n",
       "      <td>9.000000</td>\n",
       "    </tr>\n",
       "  </tbody>\n",
       "</table>\n",
       "</div>"
      ],
      "text/plain": [
       "       account length    area code  number vmail messages  total day minutes  \\\n",
       "count     2666.000000  2666.000000            2666.000000        2666.000000   \n",
       "mean       100.351463   437.351838               7.998500         179.960315   \n",
       "std         39.902158    42.488511              13.572182          54.233805   \n",
       "min          1.000000   408.000000               0.000000           0.000000   \n",
       "25%         73.000000   408.000000               0.000000         144.650000   \n",
       "50%        100.000000   415.000000               0.000000         179.400000   \n",
       "75%        127.000000   510.000000              19.000000         216.000000   \n",
       "max        232.000000   510.000000              51.000000         350.800000   \n",
       "\n",
       "       total day calls  total day charge  total eve minutes  total eve calls  \\\n",
       "count      2666.000000       2666.000000        2666.000000      2666.000000   \n",
       "mean        100.424231         30.593792         201.581808       100.087022   \n",
       "std          20.116856          9.219742          51.032044        20.031025   \n",
       "min           0.000000          0.000000           0.000000         0.000000   \n",
       "25%          87.000000         24.590000         166.925000        87.000000   \n",
       "50%         100.000000         30.500000         202.450000       100.000000   \n",
       "75%         114.000000         36.720000         236.200000       114.000000   \n",
       "max         165.000000         59.640000         363.700000       170.000000   \n",
       "\n",
       "       total eve charge  total night minutes  total night calls  \\\n",
       "count       2666.000000          2666.000000        2666.000000   \n",
       "mean          17.134659           201.218492         100.057389   \n",
       "std            4.337756            50.615479          19.814583   \n",
       "min            0.000000            23.200000          33.000000   \n",
       "25%           14.192500           167.100000          86.000000   \n",
       "50%           17.205000           201.200000         100.000000   \n",
       "75%           20.080000           235.675000         114.000000   \n",
       "max           30.910000           395.000000         175.000000   \n",
       "\n",
       "       total night charge  total intl minutes  total intl calls  \\\n",
       "count         2666.000000         2666.000000       2666.000000   \n",
       "mean             9.054906           10.240548          4.477494   \n",
       "std              2.277747            2.813472          2.439908   \n",
       "min              1.040000            0.000000          0.000000   \n",
       "25%              7.520000            8.500000          3.000000   \n",
       "50%              9.055000           10.300000          4.000000   \n",
       "75%             10.607500           12.100000          6.000000   \n",
       "max             17.770000           20.000000         20.000000   \n",
       "\n",
       "       total intl charge  customer service calls  \n",
       "count        2666.000000             2666.000000  \n",
       "mean            2.765439                1.554389  \n",
       "std             0.759618                1.317883  \n",
       "min             0.000000                0.000000  \n",
       "25%             2.300000                1.000000  \n",
       "50%             2.780000                1.000000  \n",
       "75%             3.270000                2.000000  \n",
       "max             5.400000                9.000000  "
      ]
     },
     "execution_count": 1396,
     "metadata": {},
     "output_type": "execute_result"
    }
   ],
   "source": [
    "X_train.describe()"
   ]
  },
  {
   "cell_type": "code",
   "execution_count": 1397,
   "metadata": {},
   "outputs": [],
   "source": [
    "# Drop columns with object data types and the target column\n",
    "df_numeric = df.drop(columns=['state', 'phone number', 'international plan', 'voice mail plan'])\n",
    "\n",
    "# Drop the 'churn' column from the features and store it separately as the target\n",
    "X = df_numeric.drop(columns=['churn'])\n",
    "y = df_numeric['churn']\n",
    "\n",
    "# Optionally, you can encode 'churn' if it's not already in numeric format\n",
    "# y = y.astype(int)  # Uncomment if 'churn' is not already numeric\n",
    "\n",
    "# Split the data into training and testing sets\n",
    "X_train, X_test, y_train, y_test = train_test_split(X, y, test_size=0.2, random_state=42)\n",
    "\n",
    "# Standardize the features\n",
    "scaler = StandardScaler()\n",
    "X_train = scaler.fit_transform(X_train)\n",
    "X_test = scaler.transform(X_test)"
   ]
  },
  {
   "cell_type": "markdown",
   "metadata": {},
   "source": [
    "1. MODELLING USING THE LOGISTIC LINEAR REGRESSION"
   ]
  },
  {
   "cell_type": "code",
   "execution_count": 1398,
   "metadata": {},
   "outputs": [
    {
     "data": {
      "text/plain": [
       "LogisticRegression(max_iter=1000)"
      ]
     },
     "execution_count": 1398,
     "metadata": {},
     "output_type": "execute_result"
    }
   ],
   "source": [
    "# Initialize and fit the logistic regression model\n",
    "model = LogisticRegression(max_iter=1000)\n",
    "model.fit(X_train, y_train)"
   ]
  },
  {
   "cell_type": "code",
   "execution_count": 1399,
   "metadata": {},
   "outputs": [
    {
     "name": "stdout",
     "output_type": "stream",
     "text": [
      "\n",
      "Confusion Matrix:\n"
     ]
    },
    {
     "data": {
      "image/png": "[encoded data removed]",
      "text/plain": [
       "<Figure size 432x288 with 2 Axes>"
      ]
     },
     "metadata": {
      "needs_background": "light"
     },
     "output_type": "display_data"
    },
    {
     "name": "stdout",
     "output_type": "stream",
     "text": [
      "\n",
      "Classification Report:\n",
      "              precision    recall  f1-score   support\n",
      "\n",
      "           0       0.86      0.99      0.92       566\n",
      "           1       0.77      0.10      0.18       101\n",
      "\n",
      "    accuracy                           0.86       667\n",
      "   macro avg       0.82      0.55      0.55       667\n",
      "weighted avg       0.85      0.86      0.81       667\n",
      "\n"
     ]
    }
   ],
   "source": [
    "# Make predictions\n",
    "y_pred = model.predict(X_test)\n",
    "\n",
    "# Evaluate the model\n",
    "print(\"\\nConfusion Matrix:\")\n",
    "cm = confusion_matrix(y_test, y_pred)\n",
    "disp = ConfusionMatrixDisplay(confusion_matrix=cm)\n",
    "disp.plot(cmap=plt.cm.Blues)\n",
    "plt.show()\n",
    "\n",
    "print(\"\\nClassification Report:\")\n",
    "print(classification_report(y_test, y_pred))"
   ]
  },
  {
   "cell_type": "markdown",
   "metadata": {},
   "source": [
    "CONCLUSION FOR LOGISTIC REGRESSION MODEL"
   ]
  },
  {
   "cell_type": "markdown",
   "metadata": {},
   "source": [
    "Key Metrics Overview:\n",
    "\n",
    "True Negatives (TN): 566 (The number of non-churn customers correctly identified as non-churn)\n",
    "\n",
    "False Positives (FP): 0 (The number of non-churn customers incorrectly identified as churn)\n",
    "\n",
    "False Negatives (FN): 91 (The number of churn customers incorrectly identified as non-churn)\n",
    "\n",
    "True Positives (TP): 10 (The number of churn customers correctly identified as churn)\n",
    "\n",
    "\n",
    "Explannation\n",
    "\n",
    "Precision: The proportion of true positive predictions out of all positive predictions made by the model.\n",
    "For churn (class 1): Precision = 0.77\n",
    "For non-churn (class 0): Precision = 1.00\n",
    "\n",
    "Recall: The proportion of actual positives that were correctly predicted by the model.\n",
    "For churn (class 1): Recall = 0.10\n",
    "For non-churn (class 0): Recall = 0.99\n",
    "\n",
    "F1-Score: The harmonic mean of precision and recall, which provides a balanced measure of both metrics.\n",
    "For churn (class 1): F1-Score = 0.18\n",
    "For non-churn (class 0): F1-Score = 0.92\n",
    "\n",
    "\n",
    "Model Performance:\n",
    "\n",
    "The logistic regression model shows an overall accuracy of 86%, indicating that it correctly classifies 86% of the samples. However, the performance on the churn class (class 1) is notably weaker, with a recall of only 0.10. This means the model identifies only 10% of actual churn cases.\n",
    "The model performs very well on the non-churn class (class 0), with a recall of 0.99 and an F1-score of 0.92, indicating high reliability in predicting non-churn customers.\n",
    "\n",
    "Precision: For non-churn (class 0), the precision is perfect, suggesting that when the model predicts non-churn, it is accurate. For churn (class 1), the precision is relatively high but not perfect.\n",
    "\n",
    "Recall: The low recall for churn (class 1) indicates that many actual churn cases are missed. This could be critical if identifying churners is important for business decisions.\n",
    "Recommendations:\n",
    "\n",
    "Data Collection: Obtain more data for the churn class to balance the dataset and improve model performance."
   ]
  },
  {
   "cell_type": "markdown",
   "metadata": {},
   "source": [
    "2. MODELLING USING THE DECISION TREE"
   ]
  },
  {
   "cell_type": "code",
   "execution_count": 1400,
   "metadata": {},
   "outputs": [
    {
     "data": {
      "text/plain": [
       "DecisionTreeClassifier(random_state=42)"
      ]
     },
     "execution_count": 1400,
     "metadata": {},
     "output_type": "execute_result"
    }
   ],
   "source": [
    "from sklearn.tree import DecisionTreeClassifier\n",
    "from sklearn.metrics import classification_report, accuracy_score\n",
    "\n",
    "# Initialize and fit the Decision Tree model\n",
    "model = DecisionTreeClassifier(random_state=42)  \n",
    "model.fit(X_train, y_train)\n"
   ]
  },
  {
   "cell_type": "code",
   "execution_count": 1401,
   "metadata": {},
   "outputs": [
    {
     "name": "stdout",
     "output_type": "stream",
     "text": [
      "Training Accuracy: 1.0000\n",
      "Testing Accuracy: 0.8636\n",
      "Classification Report:\n",
      "              precision    recall  f1-score   support\n",
      "\n",
      "           0       0.93      0.91      0.92       566\n",
      "           1       0.55      0.59      0.57       101\n",
      "\n",
      "    accuracy                           0.86       667\n",
      "   macro avg       0.74      0.75      0.74       667\n",
      "weighted avg       0.87      0.86      0.87       667\n",
      "\n"
     ]
    }
   ],
   "source": [
    "# Make predictions\n",
    "y_train_pred = model.predict(X_train)\n",
    "y_test_pred = model.predict(X_test)\n",
    "\n",
    "# Check training accuracy\n",
    "print(f\"Training Accuracy: {accuracy_score(y_train, y_train_pred):.4f}\")\n",
    "\n",
    "# Check testing accuracy\n",
    "print(f\"Testing Accuracy: {accuracy_score(y_test, y_test_pred):.4f}\")\n",
    "\n",
    "# Print classification report for test data\n",
    "print(\"Classification Report:\")\n",
    "print(classification_report(y_test, y_test_pred))"
   ]
  },
  {
   "cell_type": "markdown",
   "metadata": {},
   "source": [
    "CONCLUSION FOR THE DECISION TREE MODEL"
   ]
  },
  {
   "cell_type": "markdown",
   "metadata": {},
   "source": [
    "Key Metrics Overview:\n",
    "\n",
    "True Negatives (TN): 566 (The number of non-churn customers correctly identified as non-churn)\n",
    "\n",
    "False Positives (FP): 51 (The number of non-churn customers incorrectly identified as churn)\n",
    "\n",
    "False Negatives (FN): 42 (The number of churn customers incorrectly identified as non-churn)\n",
    "\n",
    "True Positives (TP): 59 (The number of churn customers correctly identified as churn)\n",
    "\n",
    "\n",
    "Explannation\n",
    "\n",
    "\n",
    "Precision:For Churn (class 1): Precision = 0.55. This indicates that when the model predicts a customer will churn, it is correct 55% of the time.\n",
    "For Non-Churn (class 0): Precision = 0.93. This indicates that when the model predicts a customer will not churn, it is correct 93% of the time.\n",
    "Recall:For Churn (class 1): Recall = 0.59. This means the model correctly identifies 59% of actual churn cases.\n",
    "For Non-Churn (class 0): Recall = 0.91. This means the model correctly identifies 91% of actual non-churn cases.\n",
    "F1-Score:For Churn (class 1): F1-Score = 0.57. This reflects a balance between precision and recall for churn cases, showing moderate performance.\n",
    "For Non-Churn (class 0): F1-Score = 0.92. This indicates a strong balance between precision and recall for non-churn cases.\n",
    "\n",
    "\n",
    "Model Performance:\n",
    "Non-Churn (class 0): The model performs very well with a high precision (0.93) and a good recall (0.91), resulting in a strong F1-Score (0.92). This indicates reliable performance in predicting non-churn customers.\n",
    "Churn (class 1): The model shows lower precision (0.55) and recall (0.59) for churn cases, with a moderate F1-Score (0.57). This suggests that the model struggles with identifying churn customers.\n",
    "\n",
    "Data Collection: To improve the model's ability to detect churn cases, consider collecting more data, especially for the churn class, to better balance the dataset.\n",
    "\n",
    "Model Enhancement: Explore additional modeling techniques to improve the model's performance\n",
    "\n"
   ]
  },
  {
   "cell_type": "markdown",
   "metadata": {},
   "source": [
    "3. CONCLUSION FOR THE 2 MODELS "
   ]
  },
  {
   "cell_type": "markdown",
   "metadata": {},
   "source": [
    "The decision tree classifier outperformed the logistic regression model in this scenario. The decision tree achieved perfect precision, recall, and F1-scores for both classes, whereas the logistic regression model had a slight drop in recall for the churn class.\n",
    "\n",
    "Decision tree performed better due to its Complexity and Flexibility.It partitioned the feature space into more distinct regions compared to logistic regression, which assumed a linear relationship between features and the target.\n",
    "\n",
    "While the decision tree performed perfectly here, it’s worth noting that decision trees can easily overfit, Overfitting might have caused it to perform exceptionally well \n",
    "\n",
    "Model Validation:\n",
    "To ensure that the decision tree’s performance is robust and not just due to overfitting, it would be important to test it with a larger and more diverse dataset or use techniques like cross-validation.\n"
   ]
  },
  {
   "cell_type": "markdown",
   "metadata": {},
   "source": []
  }
 ],
 "metadata": {
  "kernelspec": {
   "display_name": "learn-env",
   "language": "python",
   "name": "python3"
  },
  "language_info": {
   "codemirror_mode": {
    "name": "ipython",
    "version": 3
   },
   "file_extension": ".py",
   "mimetype": "text/x-python",
   "name": "python",
   "nbconvert_exporter": "python",
   "pygments_lexer": "ipython3",
   "version": "3.8.5"
  }
 },
 "nbformat": 4,
 "nbformat_minor": 2
}
