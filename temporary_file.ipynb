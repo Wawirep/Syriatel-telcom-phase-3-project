{
 "cells": [
  {
   "cell_type": "code",
   "execution_count": null,
   "metadata": {},
   "outputs": [],
   "source": [
    "# let's do One Hot Encoding of phone number variable\n",
    "# get k-1 dummy variables after One Hot Encoding \n",
    "# preview the dataset with head() method\n",
    "pd.get_dummies(df[\"phone number\"], drop_first=True).head()\n",
    "\n",
    "# let's do One Hot Encoding of voice mail plan variable\n",
    "# get k-1 dummy variables after One Hot Encoding \n",
    "# preview the dataset with head() method\n",
    "pd.get_dummies(df[\"voice mail plan\"], drop_first=True).head()\n",
    "\n",
    "# let's do One Hot Encoding of state variable\n",
    "# get k-1 dummy variables after One Hot Encoding \n",
    "# preview the dataset with head() method\n",
    "pd.get_dummies(df[\"state\"], drop_first=True).head()\n",
    "\n",
    "\n",
    "# One-Hot Encoding\n",
    "df_encoded = pd.get_dummies(df['international plan'], drop_first=True)\n",
    "\n",
    "# Concatenate the one-hot encoded columns with the original DataFrame\n",
    "df_final = pd.concat([df, df_encoded], axis=1)\n",
    "\n",
    "# Print the DataFrame with one-hot encoded columns\n",
    "print(\"DataFrame after One-Hot Encoding:\")\n",
    "print(df_final)\n",
    "\n",
    "# Print the DataFrame to check how many columns were created\n",
    "print(\"\\nDataFrame with columns:\")\n",
    "print(df_final.columns)"
   ]
  }
 ],
 "metadata": {
  "language_info": {
   "name": "python"
  }
 },
 "nbformat": 4,
 "nbformat_minor": 2
}
